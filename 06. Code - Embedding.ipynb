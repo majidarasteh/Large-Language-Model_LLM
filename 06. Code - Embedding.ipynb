{
 "cells": [
  {
   "cell_type": "code",
   "execution_count": 1,
   "id": "39b3ccfa-1ad8-406f-bb0f-0825af6fe52c",
   "metadata": {},
   "outputs": [],
   "source": [
    "# Read the file\n",
    "import os  \n",
    "import urllib.request \n",
    "\n",
    "if not os.path.exists(\"Resources/Story.txt\"):\n",
    "    URL = (\"https://raw.githubusercontent.com/majidarasteh/Large-Language-Model_LLM/refs/heads/main/Resources/Story.txt\")\n",
    "    file_path = \"Story.txt\"\n",
    "    urllib.request.urlretrieve(URL, file_path)\n",
    "\n",
    "with open(\"Story.txt\", \"r\", encoding=\"utf-8\") as f:\n",
    "    story_text = f.read()"
   ]
  },
  {
   "cell_type": "code",
   "execution_count": 2,
   "id": "09e8d2fb-7934-42df-b857-329e6206b5cc",
   "metadata": {},
   "outputs": [],
   "source": [
    "# Create a tokenizer object\n",
    "import tiktoken\n",
    "tokenizer = tiktoken.get_encoding(\"gpt2\")"
   ]
  },
  {
   "cell_type": "code",
   "execution_count": 3,
   "id": "a2c24dbc-c185-4b1e-8161-a6edd4dd5c3a",
   "metadata": {},
   "outputs": [
    {
     "name": "stdout",
     "output_type": "stream",
     "text": [
      "Parameter containing:\n",
      "tensor([[ 0.3374, -0.1778, -0.1690],\n",
      "        [ 0.9178,  1.5810,  1.3010],\n",
      "        [ 1.2753, -0.2010, -0.1606],\n",
      "        [-0.4015,  0.9666, -1.1481],\n",
      "        [-1.1589,  0.3255, -0.6315],\n",
      "        [-2.8400, -0.7849, -1.4096]], requires_grad=True)\n"
     ]
    }
   ],
   "source": [
    "\n",
    "\"\"\"\n",
    "   # Create an embedding layer.\n",
    "   1. suppose we have a small vocabulary of only 6 words (instead of the 50,257 words in the BPE tokenizer vocabulary).\n",
    "   2. we want to create embeddings of size 3 (in GPT-3, the embedding size is 12,288 dimensions).\n",
    "   3. Using the vocab_size and output_dim, we can instantiate an embedding layer in PyTorch.\n",
    "   4. setting the random seed to 123 for reproducibility purposes.\n",
    "\"\"\"\n",
    "import torch\n",
    "\n",
    "vocab_size = 6\n",
    "output_dim = 3\n",
    "\n",
    "torch.manual_seed(123)\n",
    "embedding_layer = torch.nn.Embedding(vocab_size, output_dim) # At begin, contains small, random values.\n",
    "print(embedding_layer.weight)"
   ]
  },
  {
   "cell_type": "code",
   "execution_count": 4,
   "id": "2c89d30e-44c5-43e8-b146-82f3accebae0",
   "metadata": {},
   "outputs": [
    {
     "name": "stdout",
     "output_type": "stream",
     "text": [
      "tensor([[-0.4015,  0.9666, -1.1481]], grad_fn=<EmbeddingBackward0>)\n"
     ]
    }
   ],
   "source": [
    "print(embedding_layer(torch.tensor([3]))) # Get embedding vector of a token ID=3"
   ]
  },
  {
   "cell_type": "code",
   "execution_count": 5,
   "id": "3d51f4ee-c6a2-44e5-a7ea-1bd0da6ed7f5",
   "metadata": {},
   "outputs": [
    {
     "name": "stdout",
     "output_type": "stream",
     "text": [
      "tensor([[ 1.2753, -0.2010, -0.1606],\n",
      "        [-0.4015,  0.9666, -1.1481],\n",
      "        [-2.8400, -0.7849, -1.4096],\n",
      "        [ 0.9178,  1.5810,  1.3010]], grad_fn=<EmbeddingBackward0>)\n"
     ]
    }
   ],
   "source": [
    "# Get embedding vector of 4 token IDs. Output reveals that this results in a 4 × 3 matrix:\n",
    "input_ids = torch.tensor([2, 3, 5, 1])\n",
    "print(embedding_layer(input_ids))"
   ]
  },
  {
   "cell_type": "code",
   "execution_count": 6,
   "id": "d4f8e269-b88d-42cc-ab46-98f782f4db60",
   "metadata": {},
   "outputs": [],
   "source": [
    "import torch\n",
    "from torch.utils.data import Dataset, DataLoader\n",
    "\n",
    "class GPTDatasetV1(Dataset):\n",
    "    def __init__(self, txt, tokenizer, max_length, stride):\n",
    "        self.input_ids = []\n",
    "        self.target_ids = []\n",
    "\n",
    "        token_ids = tokenizer.encode(txt)    \n",
    "\n",
    "        for i in range(0, len(token_ids) - max_length, stride):     \n",
    "            input_chunk = token_ids[i:i + max_length]\n",
    "            target_chunk = token_ids[i + 1: i + max_length + 1]\n",
    "            self.input_ids.append(torch.tensor(input_chunk))\n",
    "            self.target_ids.append(torch.tensor(target_chunk))\n",
    "\n",
    "    def __len__(self):    \n",
    "        return len(self.input_ids)\n",
    "\n",
    "    def __getitem__(self, idx):         \n",
    "        return self.input_ids[idx], self.target_ids[idx]"
   ]
  },
  {
   "cell_type": "code",
   "execution_count": 7,
   "id": "bec42d74-abab-4061-a513-26e43b26b6b2",
   "metadata": {},
   "outputs": [],
   "source": [
    "def create_dataloader_v1(txt,            # The input text data to process.\n",
    "                         batch_size=4,   # Number of input-target pairs per batch (4 sequences processed simultaneously).\n",
    "                         max_length=256, # Maximum length (in tokens) for each input sequence.\n",
    "                         stride=128,     # How many tokens the sliding window moves forward between sequences.\n",
    "                         shuffle=True,   # Whether to randomize the order of sequences before batching.\n",
    "                         drop_last=True, # If True, discards incomplete batches at the end.\n",
    "                         num_workers=0   #Number of CPU cores for parallel data loading.\n",
    "                        ):\n",
    "    tokenizer = tiktoken.get_encoding('gpt2')                        \n",
    "    dataset = GPTDatasetV1(txt,        # Your text\n",
    "                           tokenizer,  # Your tokenizer object\n",
    "                           max_length, # Number of tokens\n",
    "                           stride      # Tokens to slide window\n",
    "                          ) \n",
    "    dataloader = DataLoader(\n",
    "        dataset,\n",
    "        batch_size=batch_size,\n",
    "        shuffle=shuffle,\n",
    "        drop_last=drop_last,     \n",
    "        num_workers=num_workers     \n",
    "    )\n",
    "\n",
    "    return dataloader"
   ]
  },
  {
   "cell_type": "code",
   "execution_count": 8,
   "id": "b9a553b5-d86d-45d7-b1bf-331220360c61",
   "metadata": {},
   "outputs": [
    {
     "name": "stdout",
     "output_type": "stream",
     "text": [
      "tensor([[ 3198,  8872,   290, 37516],\n",
      "        [ 8872,   290, 37516,    12],\n",
      "        [  290, 37516,    12, 26548],\n",
      "        [37516,    12, 26548, 16059],\n",
      "        [   12, 26548, 16059,    13],\n",
      "        [26548, 16059,    13,  1320],\n",
      "        [16059,    13,  1320,   373],\n",
      "        [   13,  1320,   373,   477]]) \n",
      " torch.Size([8, 4]) \n",
      "\n",
      "tensor([[ 8872,   290, 37516,    12],\n",
      "        [  290, 37516,    12, 26548],\n",
      "        [37516,    12, 26548, 16059],\n",
      "        [   12, 26548, 16059,    13],\n",
      "        [26548, 16059,    13,  1320],\n",
      "        [16059,    13,  1320,   373],\n",
      "        [   13,  1320,   373,   477],\n",
      "        [ 1320,   373,   477,    13]]) \n",
      " torch.Size([8, 4])\n"
     ]
    }
   ],
   "source": [
    "batch_size = 8  # Size of batches\n",
    "max_length = 4  # Size of window\n",
    "\n",
    "dataloader = create_dataloader_v1(\n",
    "    story_text, batch_size=batch_size, max_length=max_length, stride=1, shuffle=False)\n",
    "data_iter = iter(dataloader)     \n",
    "inputs, targets = next(data_iter)\n",
    "print(inputs, \"\\n\", inputs.shape, \"\\n\")\n",
    "print(targets, \"\\n\", targets.shape)"
   ]
  },
  {
   "cell_type": "code",
   "execution_count": 9,
   "id": "f5a94b0d-42b2-4428-afa5-cf8454158a1b",
   "metadata": {},
   "outputs": [
    {
     "name": "stdout",
     "output_type": "stream",
     "text": [
      "torch.Size([8, 4, 256])\n"
     ]
    }
   ],
   "source": [
    "vocab_size = 50257  \n",
    "output_dim = 256\n",
    "token_embedding_layer = torch.nn.Embedding(vocab_size, output_dim)\n",
    "token_embeddings = token_embedding_layer(inputs)\n",
    "\n",
    "# The 8 × 4 × 256–dimensional tensor output shows that each token ID is now embedded as a 256-dimensional vector.\n",
    "print(token_embeddings.shape)"
   ]
  },
  {
   "cell_type": "code",
   "execution_count": 10,
   "id": "7760e3ee-8cdf-4b68-b4ee-07d6cbb6b24e",
   "metadata": {},
   "outputs": [
    {
     "name": "stdout",
     "output_type": "stream",
     "text": [
      "torch.Size([4, 256])\n"
     ]
    }
   ],
   "source": [
    "# Add positional embedding layer.\n",
    "# For a GPT model’s absolute embedding approach, we just need to create another embedding layer\n",
    "# that has the same embedding dimension as the token_embedding_ layer:\n",
    "\n",
    "context_length = max_length \n",
    "pos_embedding_layer = torch.nn.Embedding(context_length, output_dim)\n",
    "pos_embeddings = pos_embedding_layer(torch.arange(context_length))\n",
    "\n",
    "# PyTorch will add the 4 × 256–dimensional pos_embeddings tensor to each 4 × 256–dimensional token embedding tensor \n",
    "# in each of the eight batches:\n",
    "print(pos_embeddings.shape)"
   ]
  },
  {
   "cell_type": "code",
   "execution_count": 11,
   "id": "f1284880-2506-47bb-972e-2b617037be68",
   "metadata": {},
   "outputs": [
    {
     "name": "stdout",
     "output_type": "stream",
     "text": [
      "torch.Size([8, 4, 256])\n",
      "tensor([[ 0.7998, -0.2336,  0.9178,  ...,  0.3650,  3.5821, -0.1087],\n",
      "        [ 1.8502, -1.2202, -0.5523,  ...,  0.6996, -0.5810,  0.6370],\n",
      "        [ 0.3747, -1.3935,  0.1445,  ...,  0.1859, -2.2134,  0.5034],\n",
      "        [-0.7105, -1.0425,  0.5492,  ...,  0.7626,  0.3722,  1.0562]],\n",
      "       grad_fn=<SelectBackward0>)\n"
     ]
    }
   ],
   "source": [
    "input_embedding = token_embeddings + pos_embeddings\n",
    "print(input_embedding.shape)\n",
    "print(input_embedding[0])"
   ]
  }
 ],
 "metadata": {
  "kernelspec": {
   "display_name": "Python 3 (ipykernel)",
   "language": "python",
   "name": "python3"
  },
  "language_info": {
   "codemirror_mode": {
    "name": "ipython",
    "version": 3
   },
   "file_extension": ".py",
   "mimetype": "text/x-python",
   "name": "python",
   "nbconvert_exporter": "python",
   "pygments_lexer": "ipython3",
   "version": "3.13.5"
  }
 },
 "nbformat": 4,
 "nbformat_minor": 5
}
