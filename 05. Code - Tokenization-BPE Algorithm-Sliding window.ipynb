{
 "cells": [
  {
   "cell_type": "code",
   "execution_count": 1,
   "id": "8d8facba-6daa-446e-806b-c9e7db8d8edc",
   "metadata": {},
   "outputs": [],
   "source": [
    "# Read the file\n",
    "import os  \n",
    "import urllib.request \n",
    "\n",
    "if not os.path.exists(\"Resources/Story.txt\"):\n",
    "    URL = (\"https://raw.githubusercontent.com/majidarasteh/Large-Language-Model_LLM/refs/heads/main/Resources/Story.txt\")\n",
    "    file_path = \"Story.txt\"\n",
    "    urllib.request.urlretrieve(URL, file_path)\n",
    "\n",
    "with open(\"Story.txt\", \"r\", encoding=\"utf-8\") as f:\n",
    "    story_text = f.read()"
   ]
  },
  {
   "cell_type": "code",
   "execution_count": 2,
   "id": "4b91aab7-a7df-4989-80ad-cfff2be6a0da",
   "metadata": {},
   "outputs": [
    {
     "name": "stdout",
     "output_type": "stream",
     "text": [
      "0.9.0\n"
     ]
    }
   ],
   "source": [
    "import tiktoken\n",
    "print(tiktoken.__version__)"
   ]
  },
  {
   "cell_type": "code",
   "execution_count": 3,
   "id": "7d7c7626-cc84-47ee-96ae-4ca8dcdd0a92",
   "metadata": {},
   "outputs": [],
   "source": [
    "tokenizer = tiktoken.get_encoding(\"gpt2\")"
   ]
  },
  {
   "cell_type": "code",
   "execution_count": 4,
   "id": "b90ac595-ce2c-4188-b7e5-175ff43c9e2b",
   "metadata": {},
   "outputs": [
    {
     "data": {
      "text/plain": [
       "[15496, 995, 28265, 340, 318, 655, 257, 1332, 986]"
      ]
     },
     "execution_count": 4,
     "metadata": {},
     "output_type": "execute_result"
    }
   ],
   "source": [
    "# Encoding a text with BPE\n",
    "text = \"Hello world!, it is just a test...\"\n",
    "tokenizer.encode(text)"
   ]
  },
  {
   "cell_type": "code",
   "execution_count": 5,
   "id": "c0ecf44e-4798-495c-9a9e-ba056224ea59",
   "metadata": {},
   "outputs": [
    {
     "data": {
      "text/plain": [
       "'Hello world!, it is just a test...'"
      ]
     },
     "execution_count": 5,
     "metadata": {},
     "output_type": "execute_result"
    }
   ],
   "source": [
    "# Decoding the encoded text\n",
    "tokenizer.decode(tokenizer.encode(text))"
   ]
  },
  {
   "cell_type": "code",
   "execution_count": 6,
   "id": "d05de4e7-67f6-4635-9854-9856ad8a2312",
   "metadata": {},
   "outputs": [
    {
     "ename": "ValueError",
     "evalue": "Encountered text corresponding to disallowed special token '<|endoftext|>'.\nIf you want this text to be encoded as a special token, pass it to `allowed_special`, e.g. `allowed_special={'<|endoftext|>', ...}`.\nIf you want this text to be encoded as normal text, disable the check for this token by passing `disallowed_special=(enc.special_tokens_set - {'<|endoftext|>'})`.\nTo disable this check for all special tokens, pass `disallowed_special=()`.\n",
     "output_type": "error",
     "traceback": [
      "\u001b[31m---------------------------------------------------------------------------\u001b[39m",
      "\u001b[31mValueError\u001b[39m                                Traceback (most recent call last)",
      "\u001b[36mCell\u001b[39m\u001b[36m \u001b[39m\u001b[32mIn[6]\u001b[39m\u001b[32m, line 3\u001b[39m\n\u001b[32m      1\u001b[39m \u001b[38;5;66;03m# Special tokens as <|endoftext|> in gpt2\u001b[39;00m\n\u001b[32m      2\u001b[39m text = \u001b[33m\"\u001b[39m\u001b[33mHello world!, <|endoftext|>, how are you? lkjrjoi09ri#@$#@$\u001b[39m\u001b[33m\"\u001b[39m \n\u001b[32m----> \u001b[39m\u001b[32m3\u001b[39m tokenizer.encode(text)\n",
      "\u001b[36mFile \u001b[39m\u001b[32m~\\anaconda3\\envs\\LLM\\Lib\\site-packages\\tiktoken\\core.py:121\u001b[39m, in \u001b[36mEncoding.encode\u001b[39m\u001b[34m(self, text, allowed_special, disallowed_special)\u001b[39m\n\u001b[32m    119\u001b[39m         disallowed_special = \u001b[38;5;28mfrozenset\u001b[39m(disallowed_special)\n\u001b[32m    120\u001b[39m     \u001b[38;5;28;01mif\u001b[39;00m match := _special_token_regex(disallowed_special).search(text):\n\u001b[32m--> \u001b[39m\u001b[32m121\u001b[39m         raise_disallowed_special_token(match.group())\n\u001b[32m    123\u001b[39m \u001b[38;5;28;01mtry\u001b[39;00m:\n\u001b[32m    124\u001b[39m     \u001b[38;5;28;01mreturn\u001b[39;00m \u001b[38;5;28mself\u001b[39m._core_bpe.encode(text, allowed_special)\n",
      "\u001b[36mFile \u001b[39m\u001b[32m~\\anaconda3\\envs\\LLM\\Lib\\site-packages\\tiktoken\\core.py:432\u001b[39m, in \u001b[36mraise_disallowed_special_token\u001b[39m\u001b[34m(token)\u001b[39m\n\u001b[32m    431\u001b[39m \u001b[38;5;28;01mdef\u001b[39;00m\u001b[38;5;250m \u001b[39m\u001b[34mraise_disallowed_special_token\u001b[39m(token: \u001b[38;5;28mstr\u001b[39m) -> NoReturn:\n\u001b[32m--> \u001b[39m\u001b[32m432\u001b[39m     \u001b[38;5;28;01mraise\u001b[39;00m \u001b[38;5;167;01mValueError\u001b[39;00m(\n\u001b[32m    433\u001b[39m         \u001b[33mf\u001b[39m\u001b[33m\"\u001b[39m\u001b[33mEncountered text corresponding to disallowed special token \u001b[39m\u001b[38;5;132;01m{\u001b[39;00mtoken\u001b[38;5;132;01m!r}\u001b[39;00m\u001b[33m.\u001b[39m\u001b[38;5;130;01m\\n\u001b[39;00m\u001b[33m\"\u001b[39m\n\u001b[32m    434\u001b[39m         \u001b[33m\"\u001b[39m\u001b[33mIf you want this text to be encoded as a special token, \u001b[39m\u001b[33m\"\u001b[39m\n\u001b[32m    435\u001b[39m         \u001b[33mf\u001b[39m\u001b[33m\"\u001b[39m\u001b[33mpass it to `allowed_special`, e.g. `allowed_special=\u001b[39m\u001b[38;5;130;01m{{\u001b[39;00m\u001b[38;5;132;01m{\u001b[39;00mtoken\u001b[38;5;132;01m!r}\u001b[39;00m\u001b[33m, ...\u001b[39m\u001b[38;5;130;01m}}\u001b[39;00m\u001b[33m`.\u001b[39m\u001b[38;5;130;01m\\n\u001b[39;00m\u001b[33m\"\u001b[39m\n\u001b[32m    436\u001b[39m         \u001b[33mf\u001b[39m\u001b[33m\"\u001b[39m\u001b[33mIf you want this text to be encoded as normal text, disable the check for this token \u001b[39m\u001b[33m\"\u001b[39m\n\u001b[32m    437\u001b[39m         \u001b[33mf\u001b[39m\u001b[33m\"\u001b[39m\u001b[33mby passing `disallowed_special=(enc.special_tokens_set - \u001b[39m\u001b[38;5;130;01m{{\u001b[39;00m\u001b[38;5;132;01m{\u001b[39;00mtoken\u001b[38;5;132;01m!r}\u001b[39;00m\u001b[38;5;130;01m}}\u001b[39;00m\u001b[33m)`.\u001b[39m\u001b[38;5;130;01m\\n\u001b[39;00m\u001b[33m\"\u001b[39m\n\u001b[32m    438\u001b[39m         \u001b[33m\"\u001b[39m\u001b[33mTo disable this check for all special tokens, pass `disallowed_special=()`.\u001b[39m\u001b[38;5;130;01m\\n\u001b[39;00m\u001b[33m\"\u001b[39m\n\u001b[32m    439\u001b[39m     )\n",
      "\u001b[31mValueError\u001b[39m: Encountered text corresponding to disallowed special token '<|endoftext|>'.\nIf you want this text to be encoded as a special token, pass it to `allowed_special`, e.g. `allowed_special={'<|endoftext|>', ...}`.\nIf you want this text to be encoded as normal text, disable the check for this token by passing `disallowed_special=(enc.special_tokens_set - {'<|endoftext|>'})`.\nTo disable this check for all special tokens, pass `disallowed_special=()`.\n"
     ]
    }
   ],
   "source": [
    "# Special tokens as <|endoftext|> in gpt2\n",
    "text = \"Hello world!, <|endoftext|>, how are you? lkjrjoi09ri#@$#@$\" \n",
    "tokenizer.encode(text)"
   ]
  },
  {
   "cell_type": "code",
   "execution_count": null,
   "id": "4a8b24c6-2480-401f-8be1-d8c02627d808",
   "metadata": {},
   "outputs": [],
   "source": [
    "# Handling special tokens as <|endoftext|> \n",
    "tokenizer.encode(text, allowed_special={\"<|endoftext|>\"})"
   ]
  },
  {
   "cell_type": "code",
   "execution_count": 7,
   "id": "a0bc6228-36a7-45b1-ade0-7bc8678171ab",
   "metadata": {},
   "outputs": [
    {
     "data": {
      "text/plain": [
       "'Hello world!, <|endoftext|>, how are you? lkjrjoi09ri#@$#@$'"
      ]
     },
     "execution_count": 7,
     "metadata": {},
     "output_type": "execute_result"
    }
   ],
   "source": [
    "tokenizer.decode(tokenizer.encode(text, allowed_special={\"<|endoftext|>\"}))"
   ]
  },
  {
   "cell_type": "code",
   "execution_count": 8,
   "id": "a1f95abb-f0f1-42cd-b022-a710439cb01c",
   "metadata": {},
   "outputs": [
    {
     "data": {
      "text/plain": [
       "[3198, 8872, 290, 37516, 12, 26548, 16059, 13, 1320, 373]"
      ]
     },
     "execution_count": 8,
     "metadata": {},
     "output_type": "execute_result"
    }
   ],
   "source": [
    "# Tokenizing the text of the uploaded file.\n",
    "encoded_text = tokenizer.encode(story_text)\n",
    "encoded_text[:10]"
   ]
  },
  {
   "cell_type": "code",
   "execution_count": 9,
   "id": "c1a778a5-bab1-470d-bbe3-328d89903be8",
   "metadata": {},
   "outputs": [
    {
     "data": {
      "text/plain": [
       "2733"
      ]
     },
     "execution_count": 9,
     "metadata": {},
     "output_type": "execute_result"
    }
   ],
   "source": [
    "len(encoded_text)"
   ]
  },
  {
   "cell_type": "code",
   "execution_count": 10,
   "id": "2ae44668-f028-4ead-b57b-a94ac84458e5",
   "metadata": {},
   "outputs": [
    {
     "name": "stdout",
     "output_type": "stream",
     "text": [
      "[3198] ----> 8872\n",
      "[3198, 8872] ----> 290\n",
      "[3198, 8872, 290] ----> 37516\n",
      "[3198, 8872, 290, 37516] ----> 12\n",
      "[3198, 8872, 290, 37516, 12] ----> 26548\n",
      "[3198, 8872, 290, 37516, 12, 26548] ----> 16059\n",
      "[3198, 8872, 290, 37516, 12, 26548, 16059] ----> 13\n",
      "[3198, 8872, 290, 37516, 12, 26548, 16059, 13] ----> 1320\n",
      "[3198, 8872, 290, 37516, 12, 26548, 16059, 13, 1320] ----> 373\n",
      "[3198, 8872, 290, 37516, 12, 26548, 16059, 13, 1320, 373] ----> 477\n",
      "[3198, 8872, 290, 37516, 12, 26548, 16059, 13, 1320, 373, 477] ----> 13\n"
     ]
    }
   ],
   "source": [
    "# example for the concept of sliding window\n",
    "#1 The context size determines how many tokens are included in the input.\n",
    "context_size = 11\n",
    "for i in range(1, context_size+1):\n",
    "    condext = encoded_text[:i]\n",
    "    desire = encoded_text[i]\n",
    "\n",
    "    print(condext, \"---->\", desire)"
   ]
  },
  {
   "cell_type": "code",
   "execution_count": 11,
   "id": "8b6e5d05-6e96-45cf-8f47-3b3aa1ed7dae",
   "metadata": {},
   "outputs": [
    {
     "name": "stdout",
     "output_type": "stream",
     "text": [
      "One ---->  dollar\n",
      "One dollar ---->  and\n",
      "One dollar and ---->  eighty\n",
      "One dollar and eighty ----> -\n",
      "One dollar and eighty- ----> seven\n",
      "One dollar and eighty-seven ---->  cents\n",
      "One dollar and eighty-seven cents ----> .\n",
      "One dollar and eighty-seven cents. ---->  That\n",
      "One dollar and eighty-seven cents. That ---->  was\n",
      "One dollar and eighty-seven cents. That was ---->  all\n",
      "One dollar and eighty-seven cents. That was all ----> .\n"
     ]
    }
   ],
   "source": [
    "# decoding\n",
    "context_size = 11\n",
    "for i in range(1, context_size+1):\n",
    "    condext = encoded_text[:i]\n",
    "    desire = encoded_text[i]\n",
    "\n",
    "    print(tokenizer.decode(condext), \"---->\", tokenizer.decode([desire]))"
   ]
  },
  {
   "cell_type": "code",
   "execution_count": 12,
   "id": "af01b893-b046-4fef-b23c-90480abc92ef",
   "metadata": {},
   "outputs": [
    {
     "name": "stdout",
     "output_type": "stream",
     "text": [
      "2.6.0\n"
     ]
    }
   ],
   "source": [
    "import torch\n",
    "print(torch.__version__)"
   ]
  },
  {
   "cell_type": "code",
   "execution_count": 13,
   "id": "5dde84e2-85d6-4467-ad77-d8464f03d088",
   "metadata": {},
   "outputs": [],
   "source": [
    "import torch\n",
    "from torch.utils.data import Dataset, DataLoader\n",
    "\n",
    "\"\"\"\n",
    "   PyTorch’s Dataset Class is a standard way to load data.\n",
    "   GPTDatasetV1: Takes raw text and splits it into pairs of input_chunk + target_chunk.\n",
    "   Returns one pair at a time when asked.\n",
    "\n",
    "   PyTorch Dataset classes make training neater and faster. \n",
    "   Key Features of a Dataset Class:\n",
    "     1. __len__ Method: Answers: \"How many items are in this dataset?\"\n",
    "     2. __getitem__ Method: Answers: \"Give me item #X.\"\n",
    "\n",
    "   1 Tokenizes the entire text\n",
    "   2 Uses a sliding window to chunk the book into overlapping sequences of max_length\n",
    "   3 Returns the total number of rows in the dataset\n",
    "   4 Returns a single row from the dataset\n",
    "\"\"\"\n",
    "class GPTDatasetV1(Dataset):\n",
    "    def __init__(self, txt, tokenizer, max_length, stride):\n",
    "        self.input_ids = []\n",
    "        self.target_ids = []\n",
    "\n",
    "        token_ids = tokenizer.encode(txt)    \n",
    "\n",
    "        for i in range(0, len(token_ids) - max_length, stride):     \n",
    "            input_chunk = token_ids[i:i + max_length]\n",
    "            target_chunk = token_ids[i + 1: i + max_length + 1]\n",
    "            self.input_ids.append(torch.tensor(input_chunk))\n",
    "            self.target_ids.append(torch.tensor(target_chunk))\n",
    "\n",
    "    def __len__(self):    \n",
    "        return len(self.input_ids)\n",
    "\n",
    "    def __getitem__(self, idx):         \n",
    "        return self.input_ids[idx], self.target_ids[idx]"
   ]
  },
  {
   "cell_type": "code",
   "execution_count": 14,
   "id": "f0e8851b-76bd-41cb-a426-f035d6f7ac26",
   "metadata": {},
   "outputs": [],
   "source": [
    "\"\"\"  Data loader = Efficient text-to-batches converter.\n",
    "     It splits the text into chunks (input & target pairs).\n",
    "     Converts them into PyTorch tensors. PyTorch tensors make training fast and GPU-friendly.\n",
    "\n",
    "     1. Initializes the tokenizer\n",
    "     2. Creates dataset\n",
    "     3. drop_last=True drops the last batch if it is shorter than the specified batch_size to prevent loss spikes during training.\n",
    "     4. The number of CPU processes to use for preprocessing\n",
    "\n",
    "\"\"\"\n",
    "def create_dataloader_v1(txt,            # The input text data to process.\n",
    "                         batch_size=4,   # Number of input-target pairs per batch (4 sequences processed simultaneously).\n",
    "                         max_length=256, # Maximum length (in tokens) for each input sequence.\n",
    "                         stride=128,     # How many tokens the sliding window moves forward between sequences.\n",
    "                         shuffle=True,   # Whether to randomize the order of sequences before batching.\n",
    "                         drop_last=True, # If True, discards incomplete batches at the end.\n",
    "                         num_workers=0   #Number of CPU cores for parallel data loading.\n",
    "                        ):\n",
    "    tokenizer = tiktoken.get_encoding('gpt2')                        \n",
    "    dataset = GPTDatasetV1(txt,        # Your text\n",
    "                           tokenizer,  # Your tokenizer object\n",
    "                           max_length, # Number of tokens\n",
    "                           stride      # Tokens to slide window\n",
    "                          ) \n",
    "    dataloader = DataLoader(\n",
    "        dataset,\n",
    "        batch_size=batch_size,\n",
    "        shuffle=shuffle,\n",
    "        drop_last=drop_last,     \n",
    "        num_workers=num_workers     \n",
    "    )\n",
    "\n",
    "    return dataloader"
   ]
  },
  {
   "cell_type": "code",
   "execution_count": 15,
   "id": "8262ffd9-3cc0-4294-9419-1be4d0fb91c2",
   "metadata": {},
   "outputs": [
    {
     "name": "stdout",
     "output_type": "stream",
     "text": [
      "[tensor([[628, 628, 198, 198]]), tensor([[628, 198, 198,  27]])]\n"
     ]
    }
   ],
   "source": [
    "# Converts dataloader into a Python iterator to fetch the next entry via Python’s built-in next() function\n",
    "\n",
    "with open('Resources/Story.txt', 'r', encoding='utf-8') as f:\n",
    "    story_text = f.read()\n",
    "\n",
    "dataloader = create_dataloader_v1(\n",
    "    story_text, batch_size=1, max_length=4, stride=1, shuffle=False)\n",
    "data_iter = iter(dataloader)     \n",
    "first_batch = next(data_iter)\n",
    "print(first_batch)"
   ]
  },
  {
   "cell_type": "code",
   "execution_count": 16,
   "id": "1dba650f-2a93-4ee5-99e2-7f676275519d",
   "metadata": {},
   "outputs": [
    {
     "name": "stdout",
     "output_type": "stream",
     "text": [
      "[tensor([[628, 198, 198,  27]]), tensor([[198, 198,  27,   0]])]\n"
     ]
    }
   ],
   "source": [
    "second_batch = next(data_iter)\n",
    "print(second_batch)"
   ]
  },
  {
   "cell_type": "code",
   "execution_count": 17,
   "id": "1c517442-fa12-4abd-923f-e521b70a789f",
   "metadata": {},
   "outputs": [
    {
     "name": "stdout",
     "output_type": "stream",
     "text": [
      "Inputs:\n",
      " tensor([[  628,   628,   198,   198],\n",
      "        [  628,   198,   198,    27],\n",
      "        [  198,   198,    27,     0],\n",
      "        [  198,    27,     0, 18227],\n",
      "        [   27,     0, 18227,  4177],\n",
      "        [    0, 18227,  4177,    56],\n",
      "        [18227,  4177,    56, 11401],\n",
      "        [ 4177,    56, 11401, 27711]])\n",
      "\n",
      "Targets:\\n tensor([[  628,   198,   198,    27],\n",
      "        [  198,   198,    27,     0],\n",
      "        [  198,    27,     0, 18227],\n",
      "        [   27,     0, 18227,  4177],\n",
      "        [    0, 18227,  4177,    56],\n",
      "        [18227,  4177,    56, 11401],\n",
      "        [ 4177,    56, 11401, 27711],\n",
      "        [   56, 11401, 27711,    29]])\n"
     ]
    }
   ],
   "source": [
    "dataloader = create_dataloader_v1(\n",
    "    story_text, batch_size=8, max_length=4, stride=1,\n",
    "    shuffle=False\n",
    ")\n",
    "\n",
    "data_iter = iter(dataloader)\n",
    "inputs, targets = next(data_iter)\n",
    "print('Inputs:\\n', inputs)\n",
    "print('\\nTargets:\\\\n', targets)"
   ]
  }
 ],
 "metadata": {
  "kernelspec": {
   "display_name": "Python 3 (ipykernel)",
   "language": "python",
   "name": "python3"
  },
  "language_info": {
   "codemirror_mode": {
    "name": "ipython",
    "version": 3
   },
   "file_extension": ".py",
   "mimetype": "text/x-python",
   "name": "python",
   "nbconvert_exporter": "python",
   "pygments_lexer": "ipython3",
   "version": "3.13.5"
  }
 },
 "nbformat": 4,
 "nbformat_minor": 5
}
