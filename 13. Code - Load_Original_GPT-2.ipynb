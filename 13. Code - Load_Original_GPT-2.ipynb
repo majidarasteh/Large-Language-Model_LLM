{
 "cells": [
  {
   "cell_type": "code",
   "execution_count": 1,
   "id": "d0dac26f-cec9-4648-9244-cd40f16a2791",
   "metadata": {},
   "outputs": [
    {
     "name": "stderr",
     "output_type": "stream",
     "text": [
      "C:\\Users\\Majid\\anaconda3\\envs\\LLM\\Lib\\site-packages\\tqdm\\auto.py:21: TqdmWarning: IProgress not found. Please update jupyter and ipywidgets. See https://ipywidgets.readthedocs.io/en/stable/user_install.html\n",
      "  from .autonotebook import tqdm as notebook_tqdm\n"
     ]
    }
   ],
   "source": [
    "# Install required library (if not installed)\n",
    "# pip install transformers torch\n",
    "\n",
    "import torch\n",
    "from transformers import GPT2LMHeadModel, GPT2Tokenizer\n",
    "\n",
    "# Choose model size: \"gpt2\", \"gpt2-medium\", \"gpt2-large\", or \"gpt2-xl\"\n",
    "model_name = \"gpt2\"\n",
    "\n",
    "device = torch.device(\"cuda\" if torch.cuda.is_available() else \"cpu\")\n",
    "\n",
    "# Load pre-trained model and tokenizer\n",
    "tokenizer = GPT2Tokenizer.from_pretrained(model_name)\n",
    "model = GPT2LMHeadModel.from_pretrained(model_name)\n",
    "model.to(device)\n",
    "\n",
    "# Put model in evaluation mode\n",
    "model.eval();"
   ]
  },
  {
   "cell_type": "code",
   "execution_count": 2,
   "id": "64876623-be94-4a87-bc05-d1a562abdfdf",
   "metadata": {
    "scrolled": true
   },
   "outputs": [
    {
     "name": "stdout",
     "output_type": "stream",
     "text": [
      "GPT2LMHeadModel(\n",
      "  (transformer): GPT2Model(\n",
      "    (wte): Embedding(50257, 768)\n",
      "    (wpe): Embedding(1024, 768)\n",
      "    (drop): Dropout(p=0.1, inplace=False)\n",
      "    (h): ModuleList(\n",
      "      (0-11): 12 x GPT2Block(\n",
      "        (ln_1): LayerNorm((768,), eps=1e-05, elementwise_affine=True)\n",
      "        (attn): GPT2Attention(\n",
      "          (c_attn): Conv1D(nf=2304, nx=768)\n",
      "          (c_proj): Conv1D(nf=768, nx=768)\n",
      "          (attn_dropout): Dropout(p=0.1, inplace=False)\n",
      "          (resid_dropout): Dropout(p=0.1, inplace=False)\n",
      "        )\n",
      "        (ln_2): LayerNorm((768,), eps=1e-05, elementwise_affine=True)\n",
      "        (mlp): GPT2MLP(\n",
      "          (c_fc): Conv1D(nf=3072, nx=768)\n",
      "          (c_proj): Conv1D(nf=768, nx=3072)\n",
      "          (act): NewGELUActivation()\n",
      "          (dropout): Dropout(p=0.1, inplace=False)\n",
      "        )\n",
      "      )\n",
      "    )\n",
      "    (ln_f): LayerNorm((768,), eps=1e-05, elementwise_affine=True)\n",
      "  )\n",
      "  (lm_head): Linear(in_features=768, out_features=50257, bias=False)\n",
      ")\n"
     ]
    }
   ],
   "source": [
    "print(model)"
   ]
  },
  {
   "cell_type": "code",
   "execution_count": 3,
   "id": "6eb087ac-ff45-4256-995e-f52a9d78784a",
   "metadata": {},
   "outputs": [
    {
     "name": "stdout",
     "output_type": "stream",
     "text": [
      "transformer.wte.weight: torch.Size([50257, 768])\n",
      "transformer.wpe.weight: torch.Size([1024, 768])\n",
      "transformer.h.0.ln_1.weight: torch.Size([768])\n",
      "transformer.h.0.ln_1.bias: torch.Size([768])\n",
      "transformer.h.0.attn.c_attn.weight: torch.Size([768, 2304])\n",
      "transformer.h.0.attn.c_attn.bias: torch.Size([2304])\n",
      "transformer.h.0.attn.c_proj.weight: torch.Size([768, 768])\n",
      "transformer.h.0.attn.c_proj.bias: torch.Size([768])\n",
      "transformer.h.0.ln_2.weight: torch.Size([768])\n",
      "transformer.h.0.ln_2.bias: torch.Size([768])\n",
      "transformer.h.0.mlp.c_fc.weight: torch.Size([768, 3072])\n",
      "transformer.h.0.mlp.c_fc.bias: torch.Size([3072])\n",
      "transformer.h.0.mlp.c_proj.weight: torch.Size([3072, 768])\n",
      "transformer.h.0.mlp.c_proj.bias: torch.Size([768])\n",
      "transformer.h.1.ln_1.weight: torch.Size([768])\n",
      "transformer.h.1.ln_1.bias: torch.Size([768])\n",
      "transformer.h.1.attn.c_attn.weight: torch.Size([768, 2304])\n",
      "transformer.h.1.attn.c_attn.bias: torch.Size([2304])\n",
      "transformer.h.1.attn.c_proj.weight: torch.Size([768, 768])\n",
      "transformer.h.1.attn.c_proj.bias: torch.Size([768])\n",
      "transformer.h.1.ln_2.weight: torch.Size([768])\n",
      "transformer.h.1.ln_2.bias: torch.Size([768])\n",
      "transformer.h.1.mlp.c_fc.weight: torch.Size([768, 3072])\n",
      "transformer.h.1.mlp.c_fc.bias: torch.Size([3072])\n",
      "transformer.h.1.mlp.c_proj.weight: torch.Size([3072, 768])\n",
      "transformer.h.1.mlp.c_proj.bias: torch.Size([768])\n",
      "transformer.h.2.ln_1.weight: torch.Size([768])\n",
      "transformer.h.2.ln_1.bias: torch.Size([768])\n",
      "transformer.h.2.attn.c_attn.weight: torch.Size([768, 2304])\n",
      "transformer.h.2.attn.c_attn.bias: torch.Size([2304])\n",
      "transformer.h.2.attn.c_proj.weight: torch.Size([768, 768])\n",
      "transformer.h.2.attn.c_proj.bias: torch.Size([768])\n",
      "transformer.h.2.ln_2.weight: torch.Size([768])\n",
      "transformer.h.2.ln_2.bias: torch.Size([768])\n",
      "transformer.h.2.mlp.c_fc.weight: torch.Size([768, 3072])\n",
      "transformer.h.2.mlp.c_fc.bias: torch.Size([3072])\n",
      "transformer.h.2.mlp.c_proj.weight: torch.Size([3072, 768])\n",
      "transformer.h.2.mlp.c_proj.bias: torch.Size([768])\n",
      "transformer.h.3.ln_1.weight: torch.Size([768])\n",
      "transformer.h.3.ln_1.bias: torch.Size([768])\n",
      "transformer.h.3.attn.c_attn.weight: torch.Size([768, 2304])\n",
      "transformer.h.3.attn.c_attn.bias: torch.Size([2304])\n",
      "transformer.h.3.attn.c_proj.weight: torch.Size([768, 768])\n",
      "transformer.h.3.attn.c_proj.bias: torch.Size([768])\n",
      "transformer.h.3.ln_2.weight: torch.Size([768])\n",
      "transformer.h.3.ln_2.bias: torch.Size([768])\n",
      "transformer.h.3.mlp.c_fc.weight: torch.Size([768, 3072])\n",
      "transformer.h.3.mlp.c_fc.bias: torch.Size([3072])\n",
      "transformer.h.3.mlp.c_proj.weight: torch.Size([3072, 768])\n",
      "transformer.h.3.mlp.c_proj.bias: torch.Size([768])\n",
      "transformer.h.4.ln_1.weight: torch.Size([768])\n",
      "transformer.h.4.ln_1.bias: torch.Size([768])\n",
      "transformer.h.4.attn.c_attn.weight: torch.Size([768, 2304])\n",
      "transformer.h.4.attn.c_attn.bias: torch.Size([2304])\n",
      "transformer.h.4.attn.c_proj.weight: torch.Size([768, 768])\n",
      "transformer.h.4.attn.c_proj.bias: torch.Size([768])\n",
      "transformer.h.4.ln_2.weight: torch.Size([768])\n",
      "transformer.h.4.ln_2.bias: torch.Size([768])\n",
      "transformer.h.4.mlp.c_fc.weight: torch.Size([768, 3072])\n",
      "transformer.h.4.mlp.c_fc.bias: torch.Size([3072])\n",
      "transformer.h.4.mlp.c_proj.weight: torch.Size([3072, 768])\n",
      "transformer.h.4.mlp.c_proj.bias: torch.Size([768])\n",
      "transformer.h.5.ln_1.weight: torch.Size([768])\n",
      "transformer.h.5.ln_1.bias: torch.Size([768])\n",
      "transformer.h.5.attn.c_attn.weight: torch.Size([768, 2304])\n",
      "transformer.h.5.attn.c_attn.bias: torch.Size([2304])\n",
      "transformer.h.5.attn.c_proj.weight: torch.Size([768, 768])\n",
      "transformer.h.5.attn.c_proj.bias: torch.Size([768])\n",
      "transformer.h.5.ln_2.weight: torch.Size([768])\n",
      "transformer.h.5.ln_2.bias: torch.Size([768])\n",
      "transformer.h.5.mlp.c_fc.weight: torch.Size([768, 3072])\n",
      "transformer.h.5.mlp.c_fc.bias: torch.Size([3072])\n",
      "transformer.h.5.mlp.c_proj.weight: torch.Size([3072, 768])\n",
      "transformer.h.5.mlp.c_proj.bias: torch.Size([768])\n",
      "transformer.h.6.ln_1.weight: torch.Size([768])\n",
      "transformer.h.6.ln_1.bias: torch.Size([768])\n",
      "transformer.h.6.attn.c_attn.weight: torch.Size([768, 2304])\n",
      "transformer.h.6.attn.c_attn.bias: torch.Size([2304])\n",
      "transformer.h.6.attn.c_proj.weight: torch.Size([768, 768])\n",
      "transformer.h.6.attn.c_proj.bias: torch.Size([768])\n",
      "transformer.h.6.ln_2.weight: torch.Size([768])\n",
      "transformer.h.6.ln_2.bias: torch.Size([768])\n",
      "transformer.h.6.mlp.c_fc.weight: torch.Size([768, 3072])\n",
      "transformer.h.6.mlp.c_fc.bias: torch.Size([3072])\n",
      "transformer.h.6.mlp.c_proj.weight: torch.Size([3072, 768])\n",
      "transformer.h.6.mlp.c_proj.bias: torch.Size([768])\n",
      "transformer.h.7.ln_1.weight: torch.Size([768])\n",
      "transformer.h.7.ln_1.bias: torch.Size([768])\n",
      "transformer.h.7.attn.c_attn.weight: torch.Size([768, 2304])\n",
      "transformer.h.7.attn.c_attn.bias: torch.Size([2304])\n",
      "transformer.h.7.attn.c_proj.weight: torch.Size([768, 768])\n",
      "transformer.h.7.attn.c_proj.bias: torch.Size([768])\n",
      "transformer.h.7.ln_2.weight: torch.Size([768])\n",
      "transformer.h.7.ln_2.bias: torch.Size([768])\n",
      "transformer.h.7.mlp.c_fc.weight: torch.Size([768, 3072])\n",
      "transformer.h.7.mlp.c_fc.bias: torch.Size([3072])\n",
      "transformer.h.7.mlp.c_proj.weight: torch.Size([3072, 768])\n",
      "transformer.h.7.mlp.c_proj.bias: torch.Size([768])\n",
      "transformer.h.8.ln_1.weight: torch.Size([768])\n",
      "transformer.h.8.ln_1.bias: torch.Size([768])\n",
      "transformer.h.8.attn.c_attn.weight: torch.Size([768, 2304])\n",
      "transformer.h.8.attn.c_attn.bias: torch.Size([2304])\n",
      "transformer.h.8.attn.c_proj.weight: torch.Size([768, 768])\n",
      "transformer.h.8.attn.c_proj.bias: torch.Size([768])\n",
      "transformer.h.8.ln_2.weight: torch.Size([768])\n",
      "transformer.h.8.ln_2.bias: torch.Size([768])\n",
      "transformer.h.8.mlp.c_fc.weight: torch.Size([768, 3072])\n",
      "transformer.h.8.mlp.c_fc.bias: torch.Size([3072])\n",
      "transformer.h.8.mlp.c_proj.weight: torch.Size([3072, 768])\n",
      "transformer.h.8.mlp.c_proj.bias: torch.Size([768])\n",
      "transformer.h.9.ln_1.weight: torch.Size([768])\n",
      "transformer.h.9.ln_1.bias: torch.Size([768])\n",
      "transformer.h.9.attn.c_attn.weight: torch.Size([768, 2304])\n",
      "transformer.h.9.attn.c_attn.bias: torch.Size([2304])\n",
      "transformer.h.9.attn.c_proj.weight: torch.Size([768, 768])\n",
      "transformer.h.9.attn.c_proj.bias: torch.Size([768])\n",
      "transformer.h.9.ln_2.weight: torch.Size([768])\n",
      "transformer.h.9.ln_2.bias: torch.Size([768])\n",
      "transformer.h.9.mlp.c_fc.weight: torch.Size([768, 3072])\n",
      "transformer.h.9.mlp.c_fc.bias: torch.Size([3072])\n",
      "transformer.h.9.mlp.c_proj.weight: torch.Size([3072, 768])\n",
      "transformer.h.9.mlp.c_proj.bias: torch.Size([768])\n",
      "transformer.h.10.ln_1.weight: torch.Size([768])\n",
      "transformer.h.10.ln_1.bias: torch.Size([768])\n",
      "transformer.h.10.attn.c_attn.weight: torch.Size([768, 2304])\n",
      "transformer.h.10.attn.c_attn.bias: torch.Size([2304])\n",
      "transformer.h.10.attn.c_proj.weight: torch.Size([768, 768])\n",
      "transformer.h.10.attn.c_proj.bias: torch.Size([768])\n",
      "transformer.h.10.ln_2.weight: torch.Size([768])\n",
      "transformer.h.10.ln_2.bias: torch.Size([768])\n",
      "transformer.h.10.mlp.c_fc.weight: torch.Size([768, 3072])\n",
      "transformer.h.10.mlp.c_fc.bias: torch.Size([3072])\n",
      "transformer.h.10.mlp.c_proj.weight: torch.Size([3072, 768])\n",
      "transformer.h.10.mlp.c_proj.bias: torch.Size([768])\n",
      "transformer.h.11.ln_1.weight: torch.Size([768])\n",
      "transformer.h.11.ln_1.bias: torch.Size([768])\n",
      "transformer.h.11.attn.c_attn.weight: torch.Size([768, 2304])\n",
      "transformer.h.11.attn.c_attn.bias: torch.Size([2304])\n",
      "transformer.h.11.attn.c_proj.weight: torch.Size([768, 768])\n",
      "transformer.h.11.attn.c_proj.bias: torch.Size([768])\n",
      "transformer.h.11.ln_2.weight: torch.Size([768])\n",
      "transformer.h.11.ln_2.bias: torch.Size([768])\n",
      "transformer.h.11.mlp.c_fc.weight: torch.Size([768, 3072])\n",
      "transformer.h.11.mlp.c_fc.bias: torch.Size([3072])\n",
      "transformer.h.11.mlp.c_proj.weight: torch.Size([3072, 768])\n",
      "transformer.h.11.mlp.c_proj.bias: torch.Size([768])\n",
      "transformer.ln_f.weight: torch.Size([768])\n",
      "transformer.ln_f.bias: torch.Size([768])\n"
     ]
    }
   ],
   "source": [
    "for name, param in model.named_parameters():\n",
    "    print(f\"{name}: {param.shape}\")"
   ]
  },
  {
   "cell_type": "code",
   "execution_count": 4,
   "id": "e5ed8281-6ff2-4dd6-b1d3-ad20de8e7a47",
   "metadata": {},
   "outputs": [
    {
     "name": "stdout",
     "output_type": "stream",
     "text": [
      "tensor([[-0.1101, -0.0393,  0.0331,  0.1338, -0.0485],\n",
      "        [ 0.0403, -0.0486,  0.0462, -0.0990,  0.0826],\n",
      "        [-0.1275,  0.0479,  0.1841, -0.0893,  0.0831],\n",
      "        [-0.0927, -0.3053,  0.2112, -0.0419, -0.0738],\n",
      "        [-0.0506, -0.1111,  0.1058, -0.1001,  0.0985]],\n",
      "       grad_fn=<SliceBackward0>)\n"
     ]
    }
   ],
   "source": [
    "# Show first 5 values of the embedding layer\n",
    "print(model.transformer.wte.weight[:5, :5])"
   ]
  },
  {
   "cell_type": "code",
   "execution_count": 5,
   "id": "12bc10d1-d016-4e93-b0a0-5fee0dd84b94",
   "metadata": {},
   "outputs": [
    {
     "name": "stdout",
     "output_type": "stream",
     "text": [
      "Total parameters: 124439808\n",
      "Mean: -0.000499, Std: 0.134965\n"
     ]
    }
   ],
   "source": [
    "import torch\n",
    "\n",
    "with torch.no_grad():\n",
    "    all_weights = []\n",
    "    for _, param in model.named_parameters():\n",
    "        all_weights.append(param.view(-1))\n",
    "    all_weights = torch.cat(all_weights)\n",
    "\n",
    "print(f\"Total parameters: {all_weights.numel()}\")\n",
    "print(f\"Mean: {all_weights.mean().item():.6f}, Std: {all_weights.std().item():.6f}\")"
   ]
  },
  {
   "cell_type": "code",
   "execution_count": 6,
   "id": "5ef00a9d-f4c8-4a21-a285-115ef1633d3d",
   "metadata": {},
   "outputs": [
    {
     "data": {
      "image/png": "[encoded data removed]",
      "text/plain": [
       "<Figure size 640x480 with 1 Axes>"
      ]
     },
     "metadata": {},
     "output_type": "display_data"
    }
   ],
   "source": [
    "import matplotlib.pyplot as plt\n",
    "\n",
    "# Flatten and convert to numpy\n",
    "weights = model.transformer.wte.weight.detach().cpu().numpy().flatten()\n",
    "\n",
    "plt.hist(weights, bins=50)\n",
    "plt.title(\"GPT-2 Embedding Layer Weight Distribution\")\n",
    "plt.xlabel(\"Weight value\")\n",
    "plt.ylabel(\"Frequency\")\n",
    "plt.show()"
   ]
  }
 ],
 "metadata": {
  "kernelspec": {
   "display_name": "Python 3 (ipykernel)",
   "language": "python",
   "name": "python3"
  },
  "language_info": {
   "codemirror_mode": {
    "name": "ipython",
    "version": 3
   },
   "file_extension": ".py",
   "mimetype": "text/x-python",
   "name": "python",
   "nbconvert_exporter": "python",
   "pygments_lexer": "ipython3",
   "version": "3.13.5"
  }
 },
 "nbformat": 4,
 "nbformat_minor": 5
}
