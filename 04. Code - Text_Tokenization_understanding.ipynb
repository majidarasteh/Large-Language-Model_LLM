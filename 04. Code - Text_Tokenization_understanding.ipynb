{
 "cells": [
  {
   "cell_type": "code",
   "execution_count": 1,
   "id": "7ba40310-83d0-4e01-944c-18264e74f3c6",
   "metadata": {},
   "outputs": [],
   "source": [
    "# Tokenizing text\n",
    "\n",
    "import os  # Imports Python's built-in os module.\n",
    "import urllib.request # Provides functions for making HTTP requests and handling URLs\n",
    "\n",
    "#Checks if a file named \"Story.txt\" exists in a \"Resources\" directory\n",
    "if not os.path.exists(\"Resources/Story.txt\"):\n",
    "    #Defines the URL where the story text file can be downloaded from. Points to a raw text file hosted on GitHub.\n",
    "    URL = (\"https://raw.githubusercontent.com/majidarasteh/Large-Language-Model_LLM/refs/heads/main/Resources/Story.txt\")\n",
    "\n",
    "    # Sets the local file path where the downloaded file will be saved\n",
    "    file_path = \"Story.txt\"\n",
    "\n",
    "    # In this case, it will save to \"Story.txt\" in the current directory\n",
    "    urllib.request.urlretrieve(URL, file_path)\n",
    "\n",
    "# Reads the entire file content as a single string\n",
    "with open(\"Story.txt\", \"r\", encoding=\"utf-8\") as f:\n",
    "    story_text = f.read()"
   ]
  },
  {
   "cell_type": "code",
   "execution_count": 2,
   "id": "2441e2c0-f460-4c77-a988-b0bdd36572c1",
   "metadata": {},
   "outputs": [
    {
     "name": "stdout",
     "output_type": "stream",
     "text": [
      "One dollar and eighty-seven cents. That was all. And sixty cents of it was in pennies. Pennies saved one and two at a time by bulldozing the grocer and the vegetable man and the butcher until one's cheeks burned with the silent imputation of parsimony that such close dealing implied. Three times Della counted it. One dollar and eighty-seven cents. And the next day would be Christmas.\n",
      "\n",
      "There was clearly nothing left to do but flop down on the shabby little couch and howl. So Della did it. Which instigates the moral reflection that life is made up of sobs, sniffles, and smiles, with sniffles predominating.\n",
      "\n",
      "While the mistress of the home is gradually subsiding from the first stage to the second, take a look at the home. A furnished flat at $8 per week. It did not exactly beggar description, but it certainly had that word on the look-out for the mendicancy squad.\n",
      "\n",
      "In the vestibule below was a letter-box into which no letter would go, and an electric button from which no mortal finger could coax a ring. Also appertaining thereunto was a card bearing the name \"Mr. James Dillingham Young.\"\n",
      "\n",
      "The \"Dillingham\" had been flung to the breeze during a former period of prosperity when its possessor was being paid $30 per week. Now, when the income was shrunk to $20, the letters of \"Dillingham\" looked blurred, as though they were thinking seriously of contracting to a modest and unassuming D. But whenever Mr. James Dillingham Young came home and reached his flat above he was called \"Jim\" and greatly hugged by Mrs. James Dillingham Young, already introduced to you as Della. Which is all very good.\n",
      "\n",
      "Della finished her cry and attended to her cheeks with the powder rag. She stood by the window and looked out dully at a grey cat walking a grey fence in a grey backyard. To-morrow would be Christmas Day, and she had only $1.87 with which to buy Jim a present. She had been saving every penny she could for months, with this result. Twenty dollars a week doesn't go far. Expenses had been greater than she had calculated. They always are. Only $1.87 to buy a present for Jim. Her Jim. Many a happy hour she had spent planning for something nice for him. Something fine and rare and sterling--something just a little bit near to being worthy of the honour of being owned by Jim.\n",
      "\n",
      "There was a pier-glass between the windows of the room. Perhaps you have seen a pier-glass in an $8 Bat. A very thin and very agile person may, by observing his reflection in a rapid sequence of longitudinal strips, obtain a fairly accurate conception of his looks. Della, being slender, had mastered the art.\n",
      "\n",
      "Suddenly she whirled from the window and stood before the glass. Her eyes were shining brilliantly, but her face had lost its colour within twenty seconds. Rapidly she pulled down her hair and let it fall to its full length.\n",
      "\n",
      "Now, there were two possessions of the James Dillingham Youngs in which they both took a mighty pride. One was Jim's gold watch that had been his father's and his grandfather's. The other was Della's hair. Had the Queen of Sheba lived in the flat across the airshaft, Della would have let her hair hang out of the window some day to dry just to depreciate Her Majesty's jewels and gifts. Had King Solomon been the janitor, with all his treasures piled up in the basement, Jim would have pulled out his watch every time he passed, just to see him pluck at his beard from envy.\n",
      "\n",
      "So now Della's beautiful hair fell about her, rippling and shining like a cascade of brown waters. It reached below her knee and made itself almost a garment for her. And then she did it up again nervously and quickly. Once she faltered for a minute and stood still while a tear or two splashed on the worn red carpet.\n",
      "\n",
      "On went her old brown jacket; on went her old brown hat. With a whirl of skirts and with the brilliant sparkle still in her eyes, she cluttered out of the door and down the stairs to the street.\n",
      "\n",
      "Where she stopped the sign read: \"Mme Sofronie. Hair Goods of All Kinds.\" One Eight up Della ran, and collected herself, panting. Madame, large, too white, chilly, hardly looked the \"Sofronie.\"\n",
      "\n",
      "\"Will you buy my hair?\" asked Della.\n",
      "\n",
      "\"I buy hair,\" said Madame. \"Take yer hat off and let's have a sight at the looks of it.\"\n",
      "\n",
      "Down rippled the brown cascade.\n",
      "\n",
      "\"Twenty dollars,\" said Madame, lifting the mass with a practised hand.\n",
      "\n",
      "\"Give it to me quick\" said Della.\n",
      "\n",
      "Oh, and the next two hours tripped by on rosy wings. Forget the hashed metaphor. She was ransacking the stores for Jim's present.\n",
      "\n",
      "She found it at last. It surely had been made for Jim and no one else. There was no other like it in any of the stores, and she had turned all of them inside out. It was a platinum fob chain simple and chaste in design, properly proclaiming its value by substance alone and not by meretricious ornamentation--as all good things should do. It was even worthy of The Watch. As soon as she saw it she knew that it must be Jim's. It was like him. Quietness and value--the description applied to both. Twenty-one dollars they took from her for it, and she hurried home with the 78 cents. With that chain on his watch Jim might be properly anxious about the time in any company. Grand as the watch was, he sometimes looked at it on the sly on account of the old leather strap that he used in place of a chain.\n",
      "\n",
      "When Della reached home her intoxication gave way a little to prudence and reason. She got out her curling irons and lighted the gas and went to work repairing the ravages made by generosity added to love. Which is always a tremendous task dear friends--a mammoth task.\n",
      "\n",
      "Within forty minutes her head was covered with tiny, close-lying curls that made her look wonderfully like a truant schoolboy. She looked at her reflection in the mirror long, carefully, and critically.\n",
      "\n",
      "\"If Jim doesn't kill me,\" she said to herself, \"before he takes a second look at me, he'll say I look like a Coney Island chorus girl. But what could I do--oh! what could I do with a dollar and eighty-seven cents?\"\n",
      "\n",
      "At 7 o'clock the coffee was made and the frying-pan was on the back of the stove hot and ready to cook the chops.\n",
      "\n",
      "Jim was never late. Della doubled the fob chain in her hand and sat on the corner of the table near the door that he always entered. Then she heard his step on the stair away down on the first flight, and she turned white for just a moment. She had a habit of saying little silent prayers about the simplest everyday things, and now she whispered: \"Please, God, make him think I am still pretty.\"\n",
      "\n",
      "The door opened and Jim stepped in and closed it. He looked thin and very serious. Poor fellow, he was only twenty-two--and to be burdened with a family! He needed a new overcoat and he was with out gloves.\n",
      "\n",
      "Jim stepped inside the door, as immovable as a setter at the scent of quail. His eyes were fixed upon Della, and there was an expression in them that she could not read, and it terrified her. It was not anger, nor surprise, nor disapproval, nor horror, nor any of the sentiments that she had been prepared for. He simply stared at her fixedly with that peculiar expression on his face.\n",
      "\n",
      "Della wriggled off the table and went for him.\n",
      "\n",
      "\"Jim, darling,\" she cried, \"don't look at me that way. I had my hair cut off and sold it because I couldn't have lived through Christmas without giving you a present. It'll grow out again--you won't mind, will you? I just had to do it. My hair grows awfully fast. Say 'Merry Christmas!' Jim, and let's be happy. You don't know what a nice-what a beautiful, nice gift I've got for you.\"\n",
      "\n",
      "\"You've cut off your hair?\" asked Jim, laboriously, as if he had not arrived at that patent fact yet, even after the hardest mental labour.\n",
      "\n",
      "\"Cut it off and sold it,\" said Della. \"Don't you like me just as well, anyhow? I'm me without my hair, ain't I?\"\n",
      "\n",
      "Jim looked about the room curiously.\n",
      "\n",
      "\"You say your hair is gone?\" he said, with an air almost of idiocy.\n",
      "\n",
      "\"You needn't look for it,\" said Della. \"It's sold, I tell you--sold and gone, too. It's Christmas Eve, boy. Be good to me, for it went for you. Maybe the hairs of my head were numbered,\" she went on with a sudden serious sweetness, \"but nobody could ever count my love for you. Shall I put the chops on, Jim?\"\n",
      "\n",
      "Out of his trance Jim seemed quickly to wake. He enfolded his Della. For ten seconds let us regard with discreet scrutiny some inconsequential object in the other direction. Eight dollars a week or a million a year--what is the difference? A mathematician or a wit would give you the wrong answer. The magi brought valuable gifts, but that was not among them. This dark assertion will be illuminated later on.\n",
      "\n",
      "Jim drew a package from his overcoat pocket and threw it upon the table.\n",
      "\n",
      "\"Don't make any mistake, Dell,\" he said, \"about me. I don't think there's anything in the way of a haircut or a shave or a shampoo that could make me like my girl any less. But if you'll unwrap that package you may see why you had me going a while at first.\"\n",
      "\n",
      "White fingers and nimble tore at the string and paper. And then an ecstatic scream of joy; and then, alas! a quick feminine change to hysterical tears and wails, necessitating the immediate employment of all the comforting powers of the lord of the flat.\n",
      "\n",
      "For there lay The Combs--the set of combs, side and back, that Della had worshipped for long in a Broadway window. Beautiful combs, pure tortoise-shell, with jewelled rims--just the shade to wear in the beautiful vanished hair. They were expensive combs, she knew, and her heart had simply craved and yearned over them without the least hope of possession. And now, they were hers, but the tresses that should have adorned the coveted adornments were gone.\n",
      "\n",
      "But she hugged them to her bosom, and at length she was able to look up with dim eyes and a smile and say: \"My hair grows so fast, Jim!\"\n",
      "\n",
      "And then Della leaped up like a little singed cat and cried, \"Oh, oh!\"\n",
      "\n",
      "Jim had not yet seen his beautiful present. She held it out to him eagerly upon her open palm. The dull precious metal seemed to flash with a reflection of her bright and ardent spirit.\n",
      "\n",
      "\"Isn't it a dandy, Jim? I hunted all over town to find it. You'll have to look at the time a hundred times a day now. Give me your watch. I want to see how it looks on it.\"\n",
      "\n",
      "Instead of obeying, Jim tumbled down on the couch and put his hands under the back of his head and smiled.\n",
      "\n",
      "\"Dell,\" said he, \"let's put our Christmas presents away and keep 'em a while. They're too nice to use just at present. I sold the watch to get the money to buy your combs. And now suppose you put the chops on.\"\n",
      "\n",
      "The magi, as you know, were wise men--wonderfully wise men-who brought gifts to the Babe in the manger. They invented the art of giving Christmas presents. Being wise, their gifts were no doubt wise ones, possibly bearing the privilege of exchange in case of duplication. And here I have lamely related to you the uneventful chronicle of two foolish children in a flat who most unwisely sacrificed for each other the greatest treasures of their house. But in a last word to the wise of these days let it be said that of all who give gifts these two were the wisest. Of all who give and receive gifts, such as they are wisest. Everywhere they are wisest. They are the magi.\n"
     ]
    }
   ],
   "source": [
    "print(story_text)"
   ]
  },
  {
   "cell_type": "code",
   "execution_count": 3,
   "id": "c6d34485-203b-4878-9321-c46c4d405aec",
   "metadata": {},
   "outputs": [
    {
     "data": {
      "text/plain": [
       "11247"
      ]
     },
     "execution_count": 3,
     "metadata": {},
     "output_type": "execute_result"
    }
   ],
   "source": [
    "# Lenght text\n",
    "len(story_text)"
   ]
  },
  {
   "cell_type": "code",
   "execution_count": 4,
   "id": "6c0278e0-dfe9-4cf7-b86f-53360147584b",
   "metadata": {},
   "outputs": [
    {
     "name": "stdout",
     "output_type": "stream",
     "text": [
      "['Hello', ' ', 'World,', ' ', 'A', ' ', 'text', ' ', 'just', ' ', 'for', ' ', 'testing!', ' ', '-!-@-@$$']\n",
      "['Hello', ' ', 'World', ',', '', ' ', 'A', ' ', 'text', ' ', 'just', ' ', 'for', ' ', 'testing!', ' ', '-!-@-@$$']\n",
      "['Hello', ' ', 'World', ',', '', ' ', 'A', ' ', 'text', ' ', 'just', ' ', 'for', ' ', 'testing', '!', '', ' ', '-', '!', '-@-@$$']\n"
     ]
    }
   ],
   "source": [
    "\"\"\"\n",
    "  Regular expressions are like super-powered search patterns for text.\n",
    "  Like a Google Search...\n",
    "  But instead of searching for exact words, you search for patterns like:\n",
    "    Find me all words that start with 'c' and end with 't'\"\n",
    "    \"Find all 10-digit phone numbers\"\n",
    "    Find dates in MM/DD/YYYY format\"\n",
    "    Find all email addresses.\n",
    "\"\"\"\n",
    "\n",
    "import re # Regulars expression\n",
    "\n",
    "text = \"Hello World, A text just for testing! -!-@-@$$\"\n",
    "result1 = re.split(r'(\\s)',text)\n",
    "result2 = re.split(r'([,.]|\\s)',text)\n",
    "result3 = re.split(r'([,.:;?_!\"()\\']|--|\\s)',text)\n",
    "print(result1)\n",
    "print(result2)\n",
    "print(result3)"
   ]
  },
  {
   "cell_type": "code",
   "execution_count": 5,
   "id": "a19a8b9c-e7c7-44aa-8f74-4a362dabd5ab",
   "metadata": {},
   "outputs": [
    {
     "name": "stdout",
     "output_type": "stream",
     "text": [
      "4987\n"
     ]
    }
   ],
   "source": [
    "# Number of tokens\n",
    "tokens = re.split(r'([,.:;?_!\"()\\']|--|\\s)',story_text)\n",
    "print(len(tokens))"
   ]
  },
  {
   "cell_type": "code",
   "execution_count": 6,
   "id": "bcf2e98e-4a2b-47f8-8fed-a8db8e9dd518",
   "metadata": {},
   "outputs": [
    {
     "name": "stdout",
     "output_type": "stream",
     "text": [
      "['One', ' ', 'dollar', ' ', 'and', ' ', 'eighty-seven', ' ', 'cents', '.', '', ' ', 'That', ' ', 'was', ' ', 'all', '.', '', ' ', 'And', ' ', 'sixty', ' ', 'cents', ' ', 'of', ' ', 'it', ' ', 'was', ' ', 'in', ' ', 'pennies', '.', '', ' ', 'Pennies', ' ', 'saved', ' ', 'one', ' ', 'and', ' ', 'two', ' ', 'at', ' ', 'a', ' ', 'time', ' ', 'by', ' ', 'bulldozing', ' ', 'the', ' ', 'grocer', ' ', 'and', ' ', 'the', ' ', 'vegetable', ' ', 'man', ' ', 'and', ' ', 'the', ' ', 'butcher', ' ', 'until', ' ', 'one', \"'\", 's', ' ', 'cheeks', ' ', 'burned', ' ', 'with', ' ', 'the', ' ', 'silent', ' ', 'imputation', ' ', 'of', ' ', 'parsimony', ' ', 'that', ' ']\n"
     ]
    }
   ],
   "source": [
    "# Tokens\n",
    "print(tokens[:100])"
   ]
  },
  {
   "cell_type": "code",
   "execution_count": 7,
   "id": "5ace5183-3742-4014-a063-03695a63dab9",
   "metadata": {},
   "outputs": [
    {
     "name": "stdout",
     "output_type": "stream",
     "text": [
      "826\n"
     ]
    }
   ],
   "source": [
    "# Unique tokens\n",
    "all_words = sorted(set(tokens))\n",
    "all_words_size = len(all_words)\n",
    "print(all_words_size)"
   ]
  },
  {
   "cell_type": "code",
   "execution_count": 8,
   "id": "f930382a-6de7-4e22-9da3-2872bcec59ae",
   "metadata": {},
   "outputs": [
    {
     "name": "stdout",
     "output_type": "stream",
     "text": [
      "['', '\\n', ' ', '!', '\"', '$1', '$20', '$30', '$8', \"'\", ',', '--', '.', '7', '78', '87', ':', ';', '?', 'A', 'All', 'Also', 'And', 'As', 'At', 'Babe', 'Bat', 'Be', 'Beautiful', 'Being', 'Broadway', 'But', 'Christmas', 'Combs', 'Coney', 'Cut', 'D', 'Day', 'Dell', 'Della', 'Dillingham', 'Don', 'Down', 'Eight', 'Eve', 'Everywhere', 'Expenses', 'For', 'Forget', 'Give', 'God', 'Goods', 'Grand', 'Had', 'Hair', 'He', 'Her', 'His', 'I', 'If', 'In', 'Instead', 'Island', 'Isn', 'It', 'James', 'Jim', 'Kinds', 'King', 'Madame', 'Majesty', 'Many', 'Maybe', 'Merry', 'Mme', 'Mr', 'Mrs', 'My', 'Now', 'Of', 'Oh', 'On', 'Once', 'One', 'Only', 'Out', 'Pennies', 'Perhaps', 'Please', 'Poor', 'Queen', 'Quietness', 'Rapidly', 'Say', 'Shall', 'She', 'Sheba', 'So', 'Sofronie', 'Solomon']\n"
     ]
    }
   ],
   "source": [
    "print(all_words[:100])"
   ]
  },
  {
   "cell_type": "code",
   "execution_count": 9,
   "id": "793be9ae-8d2b-4a95-9484-f94115f9719a",
   "metadata": {},
   "outputs": [
    {
     "name": "stdout",
     "output_type": "stream",
     "text": [
      "826\n"
     ]
    }
   ],
   "source": [
    "# Mapping each word to an integer.\n",
    "vocabulary = {token:integer for integer, token in enumerate(all_words)}\n",
    "print(len(vocabulary))"
   ]
  },
  {
   "cell_type": "code",
   "execution_count": 10,
   "id": "d6c21bdc-c141-4b73-bb29-69559165edc7",
   "metadata": {},
   "outputs": [
    {
     "name": "stdout",
     "output_type": "stream",
     "text": [
      "{'': 0, '\\n': 1, ' ': 2, '!': 3, '\"': 4, '$1': 5, '$20': 6, '$30': 7, '$8': 8, \"'\": 9, ',': 10, '--': 11, '.': 12, '7': 13, '78': 14, '87': 15, ':': 16, ';': 17, '?': 18, 'A': 19, 'All': 20, 'Also': 21, 'And': 22, 'As': 23, 'At': 24, 'Babe': 25, 'Bat': 26, 'Be': 27, 'Beautiful': 28, 'Being': 29, 'Broadway': 30, 'But': 31, 'Christmas': 32, 'Combs': 33, 'Coney': 34, 'Cut': 35, 'D': 36, 'Day': 37, 'Dell': 38, 'Della': 39, 'Dillingham': 40, 'Don': 41, 'Down': 42, 'Eight': 43, 'Eve': 44, 'Everywhere': 45, 'Expenses': 46, 'For': 47, 'Forget': 48, 'Give': 49, 'God': 50, 'Goods': 51, 'Grand': 52, 'Had': 53, 'Hair': 54, 'He': 55, 'Her': 56, 'His': 57, 'I': 58, 'If': 59, 'In': 60, 'Instead': 61, 'Island': 62, 'Isn': 63, 'It': 64, 'James': 65, 'Jim': 66, 'Kinds': 67, 'King': 68, 'Madame': 69, 'Majesty': 70, 'Many': 71, 'Maybe': 72, 'Merry': 73, 'Mme': 74, 'Mr': 75, 'Mrs': 76, 'My': 77, 'Now': 78, 'Of': 79, 'Oh': 80, 'On': 81, 'Once': 82, 'One': 83, 'Only': 84, 'Out': 85, 'Pennies': 86, 'Perhaps': 87, 'Please': 88, 'Poor': 89, 'Queen': 90, 'Quietness': 91, 'Rapidly': 92, 'Say': 93, 'Shall': 94, 'She': 95, 'Sheba': 96, 'So': 97, 'Sofronie': 98, 'Solomon': 99, 'Something': 100, 'Suddenly': 101, 'Take': 102, 'That': 103, 'The': 104, 'Then': 105, 'There': 106, 'They': 107, 'This': 108, 'Three': 109, 'To-morrow': 110, 'Twenty': 111, 'Twenty-one': 112, 'Watch': 113, 'When': 114, 'Where': 115, 'Which': 116, 'While': 117, 'White': 118, 'Will': 119, 'With': 120, 'Within': 121, 'You': 122, 'Young': 123, 'Youngs': 124, 'a': 125, 'able': 126, 'about': 127, 'above': 128, 'account': 129, 'accurate': 130, 'across': 131, 'added': 132, 'adorned': 133, 'adornments': 134, 'after': 135, 'again': 136, 'agile': 137, 'ain': 138, 'air': 139, 'airshaft': 140, 'alas': 141, 'all': 142, 'almost': 143, 'alone': 144, 'already': 145, 'always': 146, 'am': 147, 'among': 148, 'an': 149, 'and': 150, 'anger': 151, 'answer': 152, 'anxious': 153, 'any': 154, 'anyhow': 155, 'anything': 156, 'appertaining': 157, 'applied': 158, 'ardent': 159, 'are': 160, 'arrived': 161, 'art': 162, 'as': 163, 'asked': 164, 'assertion': 165, 'at': 166, 'attended': 167, 'away': 168, 'awfully': 169, 'back': 170, 'backyard': 171, 'basement': 172, 'be': 173, 'beard': 174, 'bearing': 175, 'beautiful': 176, 'because': 177, 'been': 178, 'before': 179, 'beggar': 180, 'being': 181, 'below': 182, 'between': 183, 'bit': 184, 'blurred': 185, 'bosom': 186, 'both': 187, 'boy': 188, 'breeze': 189, 'bright': 190, 'brilliant': 191, 'brilliantly': 192, 'brought': 193, 'brown': 194, 'bulldozing': 195, 'burdened': 196, 'burned': 197, 'but': 198, 'butcher': 199, 'button': 200, 'buy': 201, 'by': 202, 'calculated': 203, 'called': 204, 'came': 205, 'card': 206, 'carefully': 207, 'carpet': 208, 'cascade': 209, 'case': 210, 'cat': 211, 'cents': 212, 'certainly': 213, 'chain': 214, 'change': 215, 'chaste': 216, 'cheeks': 217, 'children': 218, 'chilly': 219, 'chops': 220, 'chorus': 221, 'chronicle': 222, 'clearly': 223, 'clock': 224, 'close': 225, 'close-lying': 226, 'closed': 227, 'cluttered': 228, 'coax': 229, 'coffee': 230, 'collected': 231, 'colour': 232, 'combs': 233, 'comforting': 234, 'company': 235, 'conception': 236, 'contracting': 237, 'cook': 238, 'corner': 239, 'couch': 240, 'could': 241, 'couldn': 242, 'count': 243, 'counted': 244, 'covered': 245, 'coveted': 246, 'craved': 247, 'cried': 248, 'critically': 249, 'cry': 250, 'curiously': 251, 'curling': 252, 'curls': 253, 'cut': 254, 'dandy': 255, 'dark': 256, 'darling': 257, 'day': 258, 'days': 259, 'dealing': 260, 'dear': 261, 'depreciate': 262, 'description': 263, 'design': 264, 'did': 265, 'difference': 266, 'dim': 267, 'direction': 268, 'disapproval': 269, 'discreet': 270, 'do': 271, 'doesn': 272, 'dollar': 273, 'dollars': 274, 'don': 275, 'door': 276, 'doubled': 277, 'doubt': 278, 'down': 279, 'drew': 280, 'dry': 281, 'dull': 282, 'dully': 283, 'duplication': 284, 'during': 285, 'each': 286, 'eagerly': 287, 'ecstatic': 288, 'eighty-seven': 289, 'electric': 290, 'else': 291, 'em': 292, 'employment': 293, 'enfolded': 294, 'entered': 295, 'envy': 296, 'even': 297, 'ever': 298, 'every': 299, 'everyday': 300, 'exactly': 301, 'exchange': 302, 'expensive': 303, 'expression': 304, 'eyes': 305, 'face': 306, 'fact': 307, 'fairly': 308, 'fall': 309, 'faltered': 310, 'family': 311, 'far': 312, 'fast': 313, 'father': 314, 'fell': 315, 'fellow': 316, 'feminine': 317, 'fence': 318, 'find': 319, 'fine': 320, 'finger': 321, 'fingers': 322, 'finished': 323, 'first': 324, 'fixed': 325, 'fixedly': 326, 'flash': 327, 'flat': 328, 'flight': 329, 'flop': 330, 'flung': 331, 'fob': 332, 'foolish': 333, 'for': 334, 'former': 335, 'forty': 336, 'found': 337, 'friends': 338, 'from': 339, 'frying-pan': 340, 'full': 341, 'furnished': 342, 'garment': 343, 'gas': 344, 'gave': 345, 'generosity': 346, 'get': 347, 'gift': 348, 'gifts': 349, 'girl': 350, 'give': 351, 'giving': 352, 'glass': 353, 'gloves': 354, 'go': 355, 'going': 356, 'gold': 357, 'gone': 358, 'good': 359, 'got': 360, 'gradually': 361, 'grandfather': 362, 'greater': 363, 'greatest': 364, 'greatly': 365, 'grey': 366, 'grocer': 367, 'grow': 368, 'grows': 369, 'habit': 370, 'had': 371, 'hair': 372, 'haircut': 373, 'hairs': 374, 'hand': 375, 'hands': 376, 'hang': 377, 'happy': 378, 'hardest': 379, 'hardly': 380, 'hashed': 381, 'hat': 382, 'have': 383, 'he': 384, 'head': 385, 'heard': 386, 'heart': 387, 'held': 388, 'her': 389, 'here': 390, 'hers': 391, 'herself': 392, 'him': 393, 'his': 394, 'home': 395, 'honour': 396, 'hope': 397, 'horror': 398, 'hot': 399, 'hour': 400, 'hours': 401, 'house': 402, 'how': 403, 'howl': 404, 'hugged': 405, 'hundred': 406, 'hunted': 407, 'hurried': 408, 'hysterical': 409, 'idiocy': 410, 'if': 411, 'illuminated': 412, 'immediate': 413, 'immovable': 414, 'implied': 415, 'imputation': 416, 'in': 417, 'income': 418, 'inconsequential': 419, 'inside': 420, 'instigates': 421, 'into': 422, 'intoxication': 423, 'introduced': 424, 'invented': 425, 'irons': 426, 'is': 427, 'it': 428, 'its': 429, 'itself': 430, 'jacket': 431, 'janitor': 432, 'jewelled': 433, 'jewels': 434, 'joy': 435, 'just': 436, 'keep': 437, 'kill': 438, 'knee': 439, 'knew': 440, 'know': 441, 'laboriously': 442, 'labour': 443, 'lamely': 444, 'large': 445, 'last': 446, 'late': 447, 'later': 448, 'lay': 449, 'leaped': 450, 'least': 451, 'leather': 452, 'left': 453, 'length': 454, 'less': 455, 'let': 456, 'letter': 457, 'letter-box': 458, 'letters': 459, 'life': 460, 'lifting': 461, 'lighted': 462, 'like': 463, 'little': 464, 'lived': 465, 'll': 466, 'long': 467, 'longitudinal': 468, 'look': 469, 'look-out': 470, 'looked': 471, 'looks': 472, 'lord': 473, 'lost': 474, 'love': 475, 'm': 476, 'made': 477, 'magi': 478, 'make': 479, 'mammoth': 480, 'man': 481, 'manger': 482, 'mass': 483, 'mastered': 484, 'mathematician': 485, 'may': 486, 'me': 487, 'men': 488, 'men-who': 489, 'mendicancy': 490, 'mental': 491, 'meretricious': 492, 'metal': 493, 'metaphor': 494, 'might': 495, 'mighty': 496, 'million': 497, 'mind': 498, 'minute': 499, 'minutes': 500, 'mirror': 501, 'mistake': 502, 'mistress': 503, 'modest': 504, 'moment': 505, 'money': 506, 'months': 507, 'moral': 508, 'mortal': 509, 'most': 510, 'must': 511, 'my': 512, 'name': 513, 'near': 514, 'necessitating': 515, 'needed': 516, 'needn': 517, 'nervously': 518, 'never': 519, 'new': 520, 'next': 521, 'nice': 522, 'nice-what': 523, 'nimble': 524, 'no': 525, 'nobody': 526, 'nor': 527, 'not': 528, 'nothing': 529, 'now': 530, 'numbered': 531, 'o': 532, 'obeying': 533, 'object': 534, 'observing': 535, 'obtain': 536, 'of': 537, 'off': 538, 'oh': 539, 'old': 540, 'on': 541, 'one': 542, 'ones': 543, 'only': 544, 'open': 545, 'opened': 546, 'or': 547, 'ornamentation': 548, 'other': 549, 'our': 550, 'out': 551, 'over': 552, 'overcoat': 553, 'owned': 554, 'package': 555, 'paid': 556, 'palm': 557, 'panting': 558, 'paper': 559, 'parsimony': 560, 'passed': 561, 'patent': 562, 'peculiar': 563, 'pennies': 564, 'penny': 565, 'per': 566, 'period': 567, 'person': 568, 'pier-glass': 569, 'piled': 570, 'place': 571, 'planning': 572, 'platinum': 573, 'pluck': 574, 'pocket': 575, 'possession': 576, 'possessions': 577, 'possessor': 578, 'possibly': 579, 'powder': 580, 'powers': 581, 'practised': 582, 'prayers': 583, 'precious': 584, 'predominating': 585, 'prepared': 586, 'present': 587, 'presents': 588, 'pretty': 589, 'pride': 590, 'privilege': 591, 'proclaiming': 592, 'properly': 593, 'prosperity': 594, 'prudence': 595, 'pulled': 596, 'pure': 597, 'put': 598, 'quail': 599, 'quick': 600, 'quickly': 601, 'rag': 602, 'ran': 603, 'ransacking': 604, 'rapid': 605, 'rare': 606, 'ravages': 607, 're': 608, 'reached': 609, 'read': 610, 'ready': 611, 'reason': 612, 'receive': 613, 'red': 614, 'reflection': 615, 'regard': 616, 'related': 617, 'repairing': 618, 'result': 619, 'rims': 620, 'ring': 621, 'rippled': 622, 'rippling': 623, 'room': 624, 'rosy': 625, 's': 626, 'sacrificed': 627, 'said': 628, 'sat': 629, 'saved': 630, 'saving': 631, 'saw': 632, 'say': 633, 'saying': 634, 'scent': 635, 'schoolboy': 636, 'scream': 637, 'scrutiny': 638, 'second': 639, 'seconds': 640, 'see': 641, 'seemed': 642, 'seen': 643, 'sentiments': 644, 'sequence': 645, 'serious': 646, 'seriously': 647, 'set': 648, 'setter': 649, 'shabby': 650, 'shade': 651, 'shampoo': 652, 'shave': 653, 'she': 654, 'shining': 655, 'should': 656, 'shrunk': 657, 'side': 658, 'sight': 659, 'sign': 660, 'silent': 661, 'simple': 662, 'simplest': 663, 'simply': 664, 'singed': 665, 'sixty': 666, 'skirts': 667, 'slender': 668, 'sly': 669, 'smile': 670, 'smiled': 671, 'smiles': 672, 'sniffles': 673, 'so': 674, 'sobs': 675, 'sold': 676, 'some': 677, 'something': 678, 'sometimes': 679, 'soon': 680, 'sparkle': 681, 'spent': 682, 'spirit': 683, 'splashed': 684, 'squad': 685, 'stage': 686, 'stair': 687, 'stairs': 688, 'stared': 689, 'step': 690, 'stepped': 691, 'sterling': 692, 'still': 693, 'stood': 694, 'stopped': 695, 'stores': 696, 'stove': 697, 'strap': 698, 'street': 699, 'string': 700, 'strips': 701, 'subsiding': 702, 'substance': 703, 'such': 704, 'sudden': 705, 'suppose': 706, 'surely': 707, 'surprise': 708, 'sweetness': 709, 't': 710, 'table': 711, 'take': 712, 'takes': 713, 'task': 714, 'tear': 715, 'tears': 716, 'tell': 717, 'ten': 718, 'terrified': 719, 'than': 720, 'that': 721, 'the': 722, 'their': 723, 'them': 724, 'then': 725, 'there': 726, 'thereunto': 727, 'these': 728, 'they': 729, 'thin': 730, 'things': 731, 'think': 732, 'thinking': 733, 'this': 734, 'though': 735, 'threw': 736, 'through': 737, 'time': 738, 'times': 739, 'tiny': 740, 'to': 741, 'too': 742, 'took': 743, 'tore': 744, 'tortoise-shell': 745, 'town': 746, 'trance': 747, 'treasures': 748, 'tremendous': 749, 'tresses': 750, 'tripped': 751, 'truant': 752, 'tumbled': 753, 'turned': 754, 'twenty': 755, 'twenty-two': 756, 'two': 757, 'unassuming': 758, 'under': 759, 'uneventful': 760, 'until': 761, 'unwisely': 762, 'unwrap': 763, 'up': 764, 'upon': 765, 'us': 766, 'use': 767, 'used': 768, 'valuable': 769, 'value': 770, 'vanished': 771, 've': 772, 'vegetable': 773, 'very': 774, 'vestibule': 775, 'wails': 776, 'wake': 777, 'walking': 778, 'want': 779, 'was': 780, 'watch': 781, 'waters': 782, 'way': 783, 'wear': 784, 'week': 785, 'well': 786, 'went': 787, 'were': 788, 'what': 789, 'when': 790, 'whenever': 791, 'which': 792, 'while': 793, 'whirl': 794, 'whirled': 795, 'whispered': 796, 'white': 797, 'who': 798, 'why': 799, 'will': 800, 'window': 801, 'windows': 802, 'wings': 803, 'wise': 804, 'wisest': 805, 'wit': 806, 'with': 807, 'within': 808, 'without': 809, 'won': 810, 'wonderfully': 811, 'word': 812, 'work': 813, 'worn': 814, 'worshipped': 815, 'worthy': 816, 'would': 817, 'wriggled': 818, 'wrong': 819, 'year': 820, 'yearned': 821, 'yer': 822, 'yet': 823, 'you': 824, 'your': 825}\n"
     ]
    }
   ],
   "source": [
    "print(vocabulary)"
   ]
  },
  {
   "cell_type": "code",
   "execution_count": 11,
   "id": "914a2b8c-dfdb-4f10-a082-a4efc214d7c5",
   "metadata": {},
   "outputs": [],
   "source": [
    "# Create a class to encoding (tokenization) and decoding a text.\n",
    "\n",
    "class SimpleTokenizerV1:\n",
    "    def __init__(self, vocab):\n",
    "        self.str_to_int = vocab            #1\n",
    "        self.int_to_str = {i:s for s,i in vocab.items()}        #2\n",
    "\n",
    "    def encode(self, text):         #3\n",
    "        tokens = re.split(r'([,.:;?_!\"()\\']|--|\\s)',text)\n",
    "        tokens = [\n",
    "            item.strip() for item in tokens if item.strip() # This removes leading/trailing whitespace from each token\n",
    "        ]\n",
    "        ids = [self.str_to_int[s] for s in tokens]\n",
    "        return ids\n",
    "\n",
    "    def decode(self, ids):         #4\n",
    "        text = ' '.join([self.int_to_str[i] for i in ids]) \n",
    "\n",
    "        text = re.sub(r'\\s+([,.?!\"()\\'])', r'\\1', text)    #5\n",
    "        return text"
   ]
  },
  {
   "cell_type": "code",
   "execution_count": 12,
   "id": "c14929e5-7a0b-49a8-a3fc-7103f03d2fb3",
   "metadata": {},
   "outputs": [],
   "source": [
    "# Make an object from the class SimpleTokenizerV1\n",
    "tokenizer = SimpleTokenizerV1(vocabulary)"
   ]
  },
  {
   "cell_type": "code",
   "execution_count": 13,
   "id": "9b31566c-6f13-4095-b6ff-cc124dd1a7cb",
   "metadata": {},
   "outputs": [
    {
     "name": "stdout",
     "output_type": "stream",
     "text": [
      "[428, 427, 125, 520, 812, 3]\n"
     ]
    }
   ],
   "source": [
    "# Coding a sample text with our tokenizer object.\n",
    "new_text = \"\"\" it is a new word!\"\"\"\n",
    "ids = tokenizer.encode(new_text)\n",
    "print(ids)"
   ]
  },
  {
   "cell_type": "code",
   "execution_count": 14,
   "id": "b1ecbb79-b866-405f-9624-0a2ddb5240f7",
   "metadata": {},
   "outputs": [
    {
     "data": {
      "text/plain": [
       "'it is a new word!'"
      ]
     },
     "execution_count": 14,
     "metadata": {},
     "output_type": "execute_result"
    }
   ],
   "source": [
    "# Decoding the tokenized text.\n",
    "tokenizer.decode(ids)"
   ]
  },
  {
   "cell_type": "code",
   "execution_count": 15,
   "id": "725773fa-9e31-4fc7-9520-7ba13426b3fe",
   "metadata": {},
   "outputs": [
    {
     "ename": "KeyError",
     "evalue": "'&*^&*'",
     "output_type": "error",
     "traceback": [
      "\u001b[31m---------------------------------------------------------------------------\u001b[39m",
      "\u001b[31mKeyError\u001b[39m                                  Traceback (most recent call last)",
      "\u001b[36mCell\u001b[39m\u001b[36m \u001b[39m\u001b[32mIn[15]\u001b[39m\u001b[32m, line 4\u001b[39m\n\u001b[32m      1\u001b[39m \u001b[38;5;66;03m# Handling unknown words like: &*^&*\u001b[39;00m\n\u001b[32m      2\u001b[39m \u001b[38;5;66;03m# We sill see an error for unknown wrods such as &*^&*!\u001b[39;00m\n\u001b[32m      3\u001b[39m new_text = \u001b[33m\"\"\"\u001b[39m\u001b[33m it is a new word! &*^&* \u001b[39m\u001b[33m\"\"\"\u001b[39m\n\u001b[32m----> \u001b[39m\u001b[32m4\u001b[39m ids = tokenizer.encode(new_text)\n\u001b[32m      5\u001b[39m \u001b[38;5;28mprint\u001b[39m(ids)\n",
      "\u001b[36mCell\u001b[39m\u001b[36m \u001b[39m\u001b[32mIn[11]\u001b[39m\u001b[32m, line 13\u001b[39m, in \u001b[36mSimpleTokenizerV1.encode\u001b[39m\u001b[34m(self, text)\u001b[39m\n\u001b[32m      9\u001b[39m tokens = re.split(\u001b[33mr\u001b[39m\u001b[33m'\u001b[39m\u001b[33m([,.:;?_!\u001b[39m\u001b[33m\"\u001b[39m\u001b[33m()\u001b[39m\u001b[38;5;130;01m\\'\u001b[39;00m\u001b[33m]|--|\u001b[39m\u001b[33m\\\u001b[39m\u001b[33ms)\u001b[39m\u001b[33m'\u001b[39m,text)\n\u001b[32m     10\u001b[39m tokens = [\n\u001b[32m     11\u001b[39m     item.strip() \u001b[38;5;28;01mfor\u001b[39;00m item \u001b[38;5;129;01min\u001b[39;00m tokens \u001b[38;5;28;01mif\u001b[39;00m item.strip() \u001b[38;5;66;03m# This removes leading/trailing whitespace from each token\u001b[39;00m\n\u001b[32m     12\u001b[39m ]\n\u001b[32m---> \u001b[39m\u001b[32m13\u001b[39m ids = [\u001b[38;5;28mself\u001b[39m.str_to_int[s] \u001b[38;5;28;01mfor\u001b[39;00m s \u001b[38;5;129;01min\u001b[39;00m tokens]\n\u001b[32m     14\u001b[39m \u001b[38;5;28;01mreturn\u001b[39;00m ids\n",
      "\u001b[31mKeyError\u001b[39m: '&*^&*'"
     ]
    }
   ],
   "source": [
    "# Handling unknown words like: &*^&*\n",
    "# We sill see an error for unknown wrods such as &*^&*!\n",
    "new_text = \"\"\" it is a new word! &*^&* \"\"\"\n",
    "ids = tokenizer.encode(new_text)\n",
    "print(ids)"
   ]
  },
  {
   "cell_type": "code",
   "execution_count": 16,
   "id": "6af471c7-0d50-40b4-8ab9-b2c82f924b01",
   "metadata": {},
   "outputs": [
    {
     "name": "stdout",
     "output_type": "stream",
     "text": [
      "826\n"
     ]
    }
   ],
   "source": [
    "# Handling \"unknown words\" and \"end of text\" using '<|unk|>' and '<|endoftext|>'\n",
    "# Extending the vocabulary by adding '<|unk|>' and '<|endoftext|>'\n",
    "\n",
    "print(all_words_size)\n",
    "tokens = sorted(list(all_words))\n",
    "tokens.extend(['<|endoftext|>', '<|unk|>'])\n",
    "vocabulary = {token:integer for integer,token in enumerate(tokens)}"
   ]
  },
  {
   "cell_type": "code",
   "execution_count": 17,
   "id": "210996c9-c828-4ce5-a0f7-8669e62d895b",
   "metadata": {},
   "outputs": [
    {
     "name": "stdout",
     "output_type": "stream",
     "text": [
      "828\n"
     ]
    }
   ],
   "source": [
    "print(len(vocabulary))"
   ]
  },
  {
   "cell_type": "code",
   "execution_count": 18,
   "id": "d9357525-926f-4cc6-953c-2d6373ec4290",
   "metadata": {},
   "outputs": [
    {
     "name": "stdout",
     "output_type": "stream",
     "text": [
      "('yet', 823)\n",
      "('you', 824)\n",
      "('your', 825)\n",
      "('<|endoftext|>', 826)\n",
      "('<|unk|>', 827)\n"
     ]
    }
   ],
   "source": [
    "# Print the extended vocabulary\n",
    "for i, item in enumerate(list(vocabulary.items())[-5:]):\n",
    "    print(item)"
   ]
  },
  {
   "cell_type": "code",
   "execution_count": 19,
   "id": "2d1c0ac0-ae78-4bb7-8735-1c60d4e6d877",
   "metadata": {},
   "outputs": [],
   "source": [
    "# Create a class to encoding (tokenization) and decoding a text by handlig \"unkown words\" and \"end of text\"\n",
    "\n",
    "class SimpleTokenizerV2:\n",
    "    def __init__(self, vocab):\n",
    "        self.str_to_int = vocab\n",
    "        self.int_to_str = {i:s for s,i in vocab.items()}\n",
    "\n",
    "    def encode(self, text):         #3\n",
    "        tokens = re.split(r'([,.:;?_!\"()\\']|--|\\s)',text)\n",
    "        tokens = [\n",
    "            item.strip() for item in tokens if item.strip() # This removes leading/trailing whitespace from each token\n",
    "        ]\n",
    "        tokens = [item if item in self.str_to_int\n",
    "            else \"<|unk|>\" for item in tokens]\n",
    "        ids = [self.str_to_int[s] for s in tokens]\n",
    "        return ids\n",
    "\n",
    "    def decode(self, ids):         #4\n",
    "        text = ' '.join([self.int_to_str[i] for i in ids]) \n",
    "\n",
    "        text = re.sub(r'\\s+([,.?!\"()\\'])', r'\\1', text)    #5\n",
    "        return text"
   ]
  },
  {
   "cell_type": "code",
   "execution_count": 20,
   "id": "3fbed5e2-df95-480f-bb76-a78585b48683",
   "metadata": {},
   "outputs": [
    {
     "name": "stdout",
     "output_type": "stream",
     "text": [
      "[827, 827, 10, 19, 827, 436, 334, 827, 3, 827, 3, 827]\n"
     ]
    }
   ],
   "source": [
    "new_text = \"\"\" it is a new word! &*^&* \"\"\"\n",
    "tokenizer = SimpleTokenizerV2(vocabulary)\n",
    "print(tokenizer.encode(text))"
   ]
  },
  {
   "cell_type": "code",
   "execution_count": 21,
   "id": "25da07a6-3954-421f-ac44-12d8a55d865b",
   "metadata": {},
   "outputs": [
    {
     "name": "stdout",
     "output_type": "stream",
     "text": [
      "it is a new word! <|unk|>\n"
     ]
    }
   ],
   "source": [
    "print(tokenizer.decode(tokenizer.encode(new_text)))"
   ]
  }
 ],
 "metadata": {
  "kernelspec": {
   "display_name": "Python 3 (ipykernel)",
   "language": "python",
   "name": "python3"
  },
  "language_info": {
   "codemirror_mode": {
    "name": "ipython",
    "version": 3
   },
   "file_extension": ".py",
   "mimetype": "text/x-python",
   "name": "python",
   "nbconvert_exporter": "python",
   "pygments_lexer": "ipython3",
   "version": "3.13.5"
  }
 },
 "nbformat": 4,
 "nbformat_minor": 5
}
