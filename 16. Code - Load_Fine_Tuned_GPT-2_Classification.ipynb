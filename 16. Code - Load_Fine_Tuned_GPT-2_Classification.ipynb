{
 "cells": [
  {
   "cell_type": "code",
   "execution_count": 1,
   "id": "1c776bac-c3f8-4967-b31b-ccf70315449e",
   "metadata": {},
   "outputs": [
    {
     "name": "stderr",
     "output_type": "stream",
     "text": [
      "C:\\Users\\Majid\\anaconda3\\envs\\LLM\\Lib\\site-packages\\tqdm\\auto.py:21: TqdmWarning: IProgress not found. Please update jupyter and ipywidgets. See https://ipywidgets.readthedocs.io/en/stable/user_install.html\n",
      "  from .autonotebook import tqdm as notebook_tqdm\n"
     ]
    }
   ],
   "source": [
    "import tiktoken\n",
    "import torch\n",
    "from torch.utils.data import Dataset, DataLoader\n",
    "from transformers import GPT2LMHeadModel, GPT2Tokenizer"
   ]
  },
  {
   "cell_type": "code",
   "execution_count": 2,
   "id": "8b204970-c5d5-4f45-ac8d-8bd18d69b010",
   "metadata": {},
   "outputs": [
    {
     "name": "stdout",
     "output_type": "stream",
     "text": [
      "Model and optimizer successfully restored!\n"
     ]
    }
   ],
   "source": [
    "\n",
    "# 1. Recreate the same model architecture you used for training\n",
    "model_2 = GPT2LMHeadModel.from_pretrained(\"gpt2\")\n",
    "\n",
    "# Replace the LM head for classification (2 classes)\n",
    "model_2.lm_head = torch.nn.Linear(model_2.config.n_embd, 2)\n",
    "\n",
    "# 2. Move model to the same device\n",
    "device = torch.device(\"cuda\" if torch.cuda.is_available() else \"cpu\")\n",
    "model_2.to(device)\n",
    "\n",
    "# 3. Recreate the optimizer (same hyperparameters as training)\n",
    "optimizer = torch.optim.AdamW(model_2.parameters(), lr=5e-5, weight_decay=0.1)\n",
    "\n",
    "# 4. Load the checkpoint\n",
    "checkpoint = torch.load(\"gpt2_finetuned_classification.pth\", map_location=device)\n",
    "model_2.load_state_dict(checkpoint[\"model_state_dict\"], strict=False)\n",
    "optimizer.load_state_dict(checkpoint[\"optimizer_state_dict\"])\n",
    "\n",
    "model_2.eval()\n",
    "print(\"Model and optimizer successfully restored!\")\n"
   ]
  },
  {
   "cell_type": "code",
   "execution_count": 3,
   "id": "9612b4bd-999a-4db7-9759-7b3f4984ce00",
   "metadata": {},
   "outputs": [
    {
     "name": "stdout",
     "output_type": "stream",
     "text": [
      "GPT2LMHeadModel(\n",
      "  (transformer): GPT2Model(\n",
      "    (wte): Embedding(50257, 768)\n",
      "    (wpe): Embedding(1024, 768)\n",
      "    (drop): Dropout(p=0.1, inplace=False)\n",
      "    (h): ModuleList(\n",
      "      (0-11): 12 x GPT2Block(\n",
      "        (ln_1): LayerNorm((768,), eps=1e-05, elementwise_affine=True)\n",
      "        (attn): GPT2Attention(\n",
      "          (c_attn): Conv1D(nf=2304, nx=768)\n",
      "          (c_proj): Conv1D(nf=768, nx=768)\n",
      "          (attn_dropout): Dropout(p=0.1, inplace=False)\n",
      "          (resid_dropout): Dropout(p=0.1, inplace=False)\n",
      "        )\n",
      "        (ln_2): LayerNorm((768,), eps=1e-05, elementwise_affine=True)\n",
      "        (mlp): GPT2MLP(\n",
      "          (c_fc): Conv1D(nf=3072, nx=768)\n",
      "          (c_proj): Conv1D(nf=768, nx=3072)\n",
      "          (act): NewGELUActivation()\n",
      "          (dropout): Dropout(p=0.1, inplace=False)\n",
      "        )\n",
      "      )\n",
      "    )\n",
      "    (ln_f): LayerNorm((768,), eps=1e-05, elementwise_affine=True)\n",
      "  )\n",
      "  (lm_head): Linear(in_features=768, out_features=2, bias=True)\n",
      ")\n"
     ]
    }
   ],
   "source": [
    "print(model_2)"
   ]
  },
  {
   "cell_type": "code",
   "execution_count": 4,
   "id": "b24d41ae-d55d-4004-9b47-a5c8cdb61732",
   "metadata": {},
   "outputs": [],
   "source": [
    "# To evaluate the loaded model to classify a text as smap or not spam.\n",
    "# Using our previously implemented function classify_review as follow:\n",
    "def classify_review(\n",
    "        text, model, tokenizer, device, max_length=None,\n",
    "        pad_token_id=50256):\n",
    "    \n",
    "    model.eval()\n",
    "\n",
    "    # Converts the input string into a list of token IDs the model can understand.\n",
    "    input_ids = tokenizer.encode(text)   \n",
    "    \n",
    "    supported_context_length = model.config.n_positions\n",
    "    input_ids = input_ids[:min(max_length, supported_context_length)]\n",
    "\n",
    "    input_ids += [pad_token_id] * (max_length - len(input_ids))\n",
    "\n",
    "    input_tensor = torch.tensor(input_ids, device=device).unsqueeze(0)\n",
    "\n",
    "    with torch.no_grad(): \n",
    "        output = model(input_tensor).logits\n",
    "        logits = output[:, -1, :]     # [:, -1, :]: Selects only the last token’s logits for classification.\n",
    "        \n",
    "    predicted_label = torch.argmax(logits, dim=-1).item()\n",
    "\n",
    "    return 'spam' if predicted_label == 1 else 'not spam' "
   ]
  },
  {
   "cell_type": "code",
   "execution_count": 5,
   "id": "a1206c79-535f-4f63-b88e-8e1416ff38ee",
   "metadata": {},
   "outputs": [
    {
     "name": "stdout",
     "output_type": "stream",
     "text": [
      "spam\n",
      "not spam\n"
     ]
    }
   ],
   "source": [
    "text_1 = (\"Congratulations! You have won a $1000 Walmart gift card. Claim your prize now!\")\n",
    "text_2 = (\"Lets set a meeting for Saturday morning.\")\n",
    "tokenizer = tiktoken.get_encoding('gpt2')\n",
    "print(classify_review(text_1, model_2, tokenizer, device, max_length=120))\n",
    "print(classify_review(text_2, model_2, tokenizer, device, max_length=120))"
   ]
  }
 ],
 "metadata": {
  "kernelspec": {
   "display_name": "Python 3 (ipykernel)",
   "language": "python",
   "name": "python3"
  },
  "language_info": {
   "codemirror_mode": {
    "name": "ipython",
    "version": 3
   },
   "file_extension": ".py",
   "mimetype": "text/x-python",
   "name": "python",
   "nbconvert_exporter": "python",
   "pygments_lexer": "ipython3",
   "version": "3.13.5"
  }
 },
 "nbformat": 4,
 "nbformat_minor": 5
}
