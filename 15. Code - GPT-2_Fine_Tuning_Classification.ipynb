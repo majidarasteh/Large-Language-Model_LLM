{
 "cells": [
  {
   "cell_type": "code",
   "execution_count": 1,
   "id": "89d1e24e-55a6-4130-a075-8b47210134f8",
   "metadata": {},
   "outputs": [
    {
     "name": "stderr",
     "output_type": "stream",
     "text": [
      "C:\\Users\\Majid\\anaconda3\\envs\\LLM\\Lib\\site-packages\\tqdm\\auto.py:21: TqdmWarning: IProgress not found. Please update jupyter and ipywidgets. See https://ipywidgets.readthedocs.io/en/stable/user_install.html\n",
      "  from .autonotebook import tqdm as notebook_tqdm\n"
     ]
    }
   ],
   "source": [
    "import matplotlib.pyplot as plt\n",
    "import numpy as np\n",
    "import pandas as pd\n",
    "import requests\n",
    "import zipfile\n",
    "import io\n",
    "import os\n",
    "import time\n",
    "import tiktoken\n",
    "import torch\n",
    "from torch.utils.data import Dataset, DataLoader\n",
    "from transformers import GPT2LMHeadModel, GPT2Tokenizer"
   ]
  },
  {
   "cell_type": "code",
   "execution_count": 2,
   "id": "6217ae3e-258f-4c75-b0b5-9b266fb23611",
   "metadata": {},
   "outputs": [
    {
     "name": "stdout",
     "output_type": "stream",
     "text": [
      "Extracted files to 'sms_spam_collection'\n",
      "Loaded TSV file 'SMSSpamCollection' successfully\n",
      "    ham  \\\n",
      "0   ham   \n",
      "1  spam   \n",
      "2   ham   \n",
      "3   ham   \n",
      "4  spam   \n",
      "\n",
      "  Go until jurong point, crazy.. Available only in bugis n great world la e buffet... Cine there got amore wat...  \n",
      "0                      Ok lar... Joking wif u oni...                                                               \n",
      "1  Free entry in 2 a wkly comp to win FA Cup fina...                                                               \n",
      "2  U dun say so early hor... U c already then say...                                                               \n",
      "3  Nah I don't think he goes to usf, he lives aro...                                                               \n",
      "4  FreeMsg Hey there darling it's been 3 week's n...                                                               \n"
     ]
    }
   ],
   "source": [
    "\n",
    "\n",
    "url = \"https://archive.ics.uci.edu/static/public/228/sms+spam+collection.zip\"\n",
    "tsv_filename = \"SMSSpamCollection\"\n",
    "\n",
    "\n",
    "def download_extract_read_tsv(url, tsv_filename, extract_to=\"sms_spam_collection\"):\n",
    "    \"\"\"\n",
    "    Download a zip file from `url`, extract it, and read a .tsv file inside.\n",
    "\n",
    "    Args:\n",
    "        url (str): URL of the zip file\n",
    "        tsv_filename (str): Name of the .tsv file inside the zip\n",
    "        extract_to (str): Directory to extract files to\n",
    "\n",
    "    Returns:\n",
    "        pandas.DataFrame: The loaded TSV file\n",
    "    \"\"\"\n",
    "    # Download the zip file\n",
    "    response = requests.get(url)\n",
    "    if response.status_code != 200:\n",
    "        raise Exception(f\"Failed to download file: Status code {response.status_code}\")\n",
    "    \n",
    "    # Extract the zip file\n",
    "    os.makedirs(extract_to, exist_ok=True)\n",
    "    with zipfile.ZipFile(io.BytesIO(response.content)) as zip_ref:\n",
    "        zip_ref.extractall(extract_to)\n",
    "    print(f\"Extracted files to '{extract_to}'\")\n",
    "    \n",
    "    # Read the .tsv file\n",
    "    file_path = os.path.join(extract_to, tsv_filename)\n",
    "    if not os.path.exists(file_path):\n",
    "        raise FileNotFoundError(f\"{tsv_filename} not found in extracted files\")\n",
    "    \n",
    "    data = pd.read_csv(file_path, sep='\\t')\n",
    "    print(f\"Loaded TSV file '{tsv_filename}' successfully\")\n",
    "    return data, file_path\n",
    "    \n",
    "data, file_path = download_extract_read_tsv(url, tsv_filename)\n",
    "print(data.head())"
   ]
  },
  {
   "cell_type": "code",
   "execution_count": 3,
   "id": "9fd4fbb3-e3a9-47ce-98dd-3123518b0a1b",
   "metadata": {},
   "outputs": [
    {
     "data": {
      "text/html": [
       "<div>\n",
       "<style scoped>\n",
       "    .dataframe tbody tr th:only-of-type {\n",
       "        vertical-align: middle;\n",
       "    }\n",
       "\n",
       "    .dataframe tbody tr th {\n",
       "        vertical-align: top;\n",
       "    }\n",
       "\n",
       "    .dataframe thead th {\n",
       "        text-align: right;\n",
       "    }\n",
       "</style>\n",
       "<table border=\"1\" class=\"dataframe\">\n",
       "  <thead>\n",
       "    <tr style=\"text-align: right;\">\n",
       "      <th></th>\n",
       "      <th>Label</th>\n",
       "      <th>Text</th>\n",
       "    </tr>\n",
       "  </thead>\n",
       "  <tbody>\n",
       "    <tr>\n",
       "      <th>0</th>\n",
       "      <td>ham</td>\n",
       "      <td>Go until jurong point, crazy.. Available only ...</td>\n",
       "    </tr>\n",
       "    <tr>\n",
       "      <th>1</th>\n",
       "      <td>ham</td>\n",
       "      <td>Ok lar... Joking wif u oni...</td>\n",
       "    </tr>\n",
       "    <tr>\n",
       "      <th>2</th>\n",
       "      <td>spam</td>\n",
       "      <td>Free entry in 2 a wkly comp to win FA Cup fina...</td>\n",
       "    </tr>\n",
       "    <tr>\n",
       "      <th>3</th>\n",
       "      <td>ham</td>\n",
       "      <td>U dun say so early hor... U c already then say...</td>\n",
       "    </tr>\n",
       "    <tr>\n",
       "      <th>4</th>\n",
       "      <td>ham</td>\n",
       "      <td>Nah I don't think he goes to usf, he lives aro...</td>\n",
       "    </tr>\n",
       "  </tbody>\n",
       "</table>\n",
       "</div>"
      ],
      "text/plain": [
       "  Label                                               Text\n",
       "0   ham  Go until jurong point, crazy.. Available only ...\n",
       "1   ham                      Ok lar... Joking wif u oni...\n",
       "2  spam  Free entry in 2 a wkly comp to win FA Cup fina...\n",
       "3   ham  U dun say so early hor... U c already then say...\n",
       "4   ham  Nah I don't think he goes to usf, he lives aro..."
      ]
     },
     "execution_count": 3,
     "metadata": {},
     "output_type": "execute_result"
    }
   ],
   "source": [
    "df = pd.read_csv(\n",
    "    file_path, sep='\\t', header=None, names=['Label', 'Text']\n",
    ")\n",
    "df.head()"
   ]
  },
  {
   "cell_type": "code",
   "execution_count": 4,
   "id": "61a98094-b192-4746-aa1d-a0f6002d68b2",
   "metadata": {},
   "outputs": [
    {
     "name": "stdout",
     "output_type": "stream",
     "text": [
      "Label\n",
      "ham     747\n",
      "spam    747\n",
      "Name: count, dtype: int64\n"
     ]
    }
   ],
   "source": [
    "\"\"\"\n",
    "    This function creates a balanced dataset by undersampling the majority class.\n",
    "\"\"\"\n",
    "\n",
    "def create_balanced_dataset(df):\n",
    "    # 1. Count the number of spam messages\n",
    "    num_spam = df[df['Label'] == 'spam'].shape[0]  \n",
    "\n",
    "     # 2. Randomly sample the same number of ham messages as spam\n",
    "    ham_subset = df[df['Label'] == 'ham'].sample(\n",
    "        num_spam,          # Sample this many ham messages\n",
    "        random_state=123   # For reproducible results\n",
    "    )     \n",
    "\n",
    "     # 3. Combine the sampled ham messages with all spam messages\n",
    "    balanced_df = pd.concat([\n",
    "        ham_subset,                 # The randomly selected ham messages\n",
    "        df[df['Label'] == 'spam']   # All spam messages\n",
    "    ])         \n",
    "    \n",
    "    return balanced_df\n",
    "\n",
    "# 4. Apply the function and check the balance\n",
    "balanced_df = create_balanced_dataset(df)\n",
    "print(balanced_df['Label'].value_counts())"
   ]
  },
  {
   "cell_type": "code",
   "execution_count": 5,
   "id": "66052b92-da7b-4abc-9705-13439d1b9ce2",
   "metadata": {},
   "outputs": [
    {
     "data": {
      "text/html": [
       "<div>\n",
       "<style scoped>\n",
       "    .dataframe tbody tr th:only-of-type {\n",
       "        vertical-align: middle;\n",
       "    }\n",
       "\n",
       "    .dataframe tbody tr th {\n",
       "        vertical-align: top;\n",
       "    }\n",
       "\n",
       "    .dataframe thead th {\n",
       "        text-align: right;\n",
       "    }\n",
       "</style>\n",
       "<table border=\"1\" class=\"dataframe\">\n",
       "  <thead>\n",
       "    <tr style=\"text-align: right;\">\n",
       "      <th></th>\n",
       "      <th>Label</th>\n",
       "      <th>Text</th>\n",
       "    </tr>\n",
       "  </thead>\n",
       "  <tbody>\n",
       "    <tr>\n",
       "      <th>4307</th>\n",
       "      <td>0</td>\n",
       "      <td>Awww dat is sweet! We can think of something t...</td>\n",
       "    </tr>\n",
       "    <tr>\n",
       "      <th>4138</th>\n",
       "      <td>0</td>\n",
       "      <td>Just got to  &amp;lt;#&amp;gt;</td>\n",
       "    </tr>\n",
       "    <tr>\n",
       "      <th>4831</th>\n",
       "      <td>0</td>\n",
       "      <td>The word \"Checkmate\" in chess comes from the P...</td>\n",
       "    </tr>\n",
       "    <tr>\n",
       "      <th>4461</th>\n",
       "      <td>0</td>\n",
       "      <td>This is wishing you a great day. Moji told me ...</td>\n",
       "    </tr>\n",
       "    <tr>\n",
       "      <th>5440</th>\n",
       "      <td>0</td>\n",
       "      <td>Thank you. do you generally date the brothas?</td>\n",
       "    </tr>\n",
       "  </tbody>\n",
       "</table>\n",
       "</div>"
      ],
      "text/plain": [
       "      Label                                               Text\n",
       "4307      0  Awww dat is sweet! We can think of something t...\n",
       "4138      0                             Just got to  &lt;#&gt;\n",
       "4831      0  The word \"Checkmate\" in chess comes from the P...\n",
       "4461      0  This is wishing you a great day. Moji told me ...\n",
       "5440      0      Thank you. do you generally date the brothas?"
      ]
     },
     "execution_count": 5,
     "metadata": {},
     "output_type": "execute_result"
    }
   ],
   "source": [
    "balanced_df['Label'] = balanced_df['Label'].map({'ham': 0, 'spam': 1})\n",
    "balanced_df.head()"
   ]
  },
  {
   "cell_type": "code",
   "execution_count": 6,
   "id": "58650b3a-b2ec-4388-a3f5-36af5c3b427c",
   "metadata": {},
   "outputs": [],
   "source": [
    "\"\"\"\n",
    "    This function performs a random split of a dataset into training, validation, and test sets.\n",
    "\"\"\"\n",
    "\n",
    "\n",
    "def random_split(df, train_frac, validation_frac):\n",
    "\n",
    "    # 1. Shuffle the dataframe randomly\n",
    "    df = df.sample(\n",
    "        frac=1,                 # Sample 100% of rows (shuffle)\n",
    "        random_state=123        # For reproducible shuffling\n",
    "    ).reset_index(drop=True)    # Reset index to avoid old index issues\n",
    "\n",
    "\n",
    "    # 2. Calculate split points\n",
    "    train_end = int(len(df) * train_frac)                          # End index for training set\n",
    "    validation_end = train_end + int(len(df) * validation_frac)    # End index for validation set\n",
    "\n",
    "    \n",
    "    # 3. Split the dataframe\n",
    "    train_df = df[:train_end]                           # First portion: training set\n",
    "    validation_df = df[train_end:validation_end]        # Middle portion: validation set\n",
    "    test_df = df[validation_end:]                       # Last portion: test set\n",
    "\n",
    "    return train_df, validation_df, test_df\n",
    "\n",
    "# 4. Usage example\n",
    "train_df, validation_df, test_df = random_split(\n",
    "    balanced_df, 0.7, 0.1)                              # 70% train, 10% validation, 20% test"
   ]
  },
  {
   "cell_type": "code",
   "execution_count": 7,
   "id": "54ac5e89-342f-41a7-8a6c-41e16b38ebff",
   "metadata": {
    "scrolled": true
   },
   "outputs": [],
   "source": [
    "# save the dataset as CSV (comma-separated value) files so we can reuse it later:\n",
    "\n",
    "train_df.to_csv('train.csv', index=None)\n",
    "validation_df.to_csv('validation.csv', index=None)\n",
    "test_df.to_csv('test.csv', index=None)"
   ]
  },
  {
   "cell_type": "code",
   "execution_count": 8,
   "id": "3540fb8f-8596-4b13-9d30-ef753a7d45b5",
   "metadata": {},
   "outputs": [
    {
     "name": "stdout",
     "output_type": "stream",
     "text": [
      "[50256]\n"
     ]
    }
   ],
   "source": [
    "tokenizer = tiktoken.get_encoding('gpt2')\n",
    "print(tokenizer.encode('<|endoftext|>', allowed_special={'<|endoftext|>'}))"
   ]
  },
  {
   "cell_type": "code",
   "execution_count": 9,
   "id": "4c3b8df2-7b05-40d4-a075-4a6ccf0284d4",
   "metadata": {},
   "outputs": [],
   "source": [
    "# Creating data loaders\n",
    "\n",
    "class SpamDataset(Dataset):\n",
    "    def __init__(self, csv_file, tokenizer, max_length=None,\n",
    "                 pad_token_id=50256):\n",
    "\n",
    "         # 1. Load and tokenize the data\n",
    "        self.data = pd.read_csv(csv_file)\n",
    "        self.encoded_texts = [\n",
    "            tokenizer.encode(text) for text in self.data['Text']\n",
    "        ]\n",
    "\n",
    "        # 2. Handle sequence length\n",
    "        if max_length is None:\n",
    "            self.max_length = self._longest_encoded_length()\n",
    "        else:\n",
    "            self.max_length = max_length\n",
    "\n",
    "            # Truncate sequences that are too long\n",
    "            self.encoded_texts = [\n",
    "                encoded_text[:self.max_length]\n",
    "                for encoded_text in self.encoded_texts\n",
    "            ]\n",
    "\n",
    "        # 3. Pad sequences to uniform length\n",
    "        self.encoded_texts = [\n",
    "            encoded_text + [pad_token_id] * (self.max_length - len(encoded_text))\n",
    "            for encoded_text in self.encoded_texts\n",
    "        ]\n",
    "\n",
    "\n",
    "    def __getitem__(self, index):\n",
    "        # Return one data sample (text + label)\n",
    "        encoded = self.encoded_texts[index]\n",
    "        label = self.data.iloc[index]['Label']\n",
    "        return (\n",
    "            torch.tensor(encoded, dtype=torch.long),        # Input tokens\n",
    "            torch.tensor(label, dtype=torch.long)           # Target label\n",
    "        )\n",
    "\n",
    "    def __len__(self):\n",
    "        return len(self.data)                  # Total number of samples\n",
    "\n",
    "    \n",
    "    # Helper method to find the longest sequence\n",
    "    def _longest_encoded_length(self):\n",
    "        max_length = 0\n",
    "        for encoded_text in self.encoded_texts:\n",
    "            encoded_length = len(encoded_text)\n",
    "            if encoded_length > max_length:\n",
    "                max_length = encoded_length\n",
    "        return max_length\n"
   ]
  },
  {
   "cell_type": "code",
   "execution_count": 10,
   "id": "afd14f40-f998-407a-906b-03a796ffd073",
   "metadata": {},
   "outputs": [],
   "source": [
    "train_dataset = SpamDataset(\n",
    "    csv_file='train.csv',\n",
    "    max_length=None,\n",
    "    tokenizer=tokenizer\n",
    ")\n",
    "val_dataset = SpamDataset(\n",
    "    csv_file='validation.csv',\n",
    "    max_length=train_dataset.max_length,\n",
    "    tokenizer=tokenizer\n",
    ")\n",
    "test_dataset = SpamDataset(\n",
    "    csv_file='test.csv',\n",
    "    max_length=train_dataset.max_length,\n",
    "    tokenizer=tokenizer\n",
    ")"
   ]
  },
  {
   "cell_type": "code",
   "execution_count": 11,
   "id": "3656fcf8-6d60-4633-b771-fb58b21d2536",
   "metadata": {},
   "outputs": [
    {
     "name": "stdout",
     "output_type": "stream",
     "text": [
      "Maximum lenght of a text in the whole dataset:  120\n",
      "Lenght of train dataset:  1045\n",
      "Lenght of validation dataset:  149\n",
      "Lenght of test dataset:  300\n"
     ]
    }
   ],
   "source": [
    "print(\"Maximum lenght of a text in the whole dataset: \", train_dataset.max_length)\n",
    "print(\"Lenght of train dataset: \", len(train_dataset))\n",
    "print(\"Lenght of validation dataset: \", len(val_dataset))\n",
    "print(\"Lenght of test dataset: \", len(test_dataset))"
   ]
  },
  {
   "cell_type": "code",
   "execution_count": 12,
   "id": "cd074091-6728-4ac5-abeb-4c43ea1ece5f",
   "metadata": {},
   "outputs": [],
   "source": [
    "\"\"\"\n",
    "    This code creates DataLoader objects for training, validation, and test datasets.\n",
    "\"\"\"\n",
    "# 1. Configuration settings\n",
    "num_workers = 0              # Number of subprocesses for data loading\n",
    "batch_size = 8               # Number of samples per batch\n",
    "torch.manual_seed(123)       # For reproducible randomness\n",
    "\n",
    "train_loader = DataLoader(\n",
    "    dataset=train_dataset,    # Training dataset\n",
    "    batch_size=batch_size,    # 8 samples per batch\n",
    "    shuffle=True,             # Shuffle data each epoch\n",
    "    num_workers=num_workers,  # 0 = load in main process\n",
    "    drop_last=True,           # Drop last incomplete batch\n",
    ")\n",
    "val_loader = DataLoader(      \n",
    "    dataset=val_dataset,      # Validation dataset\n",
    "    batch_size=batch_size,    # Same batch size\n",
    "    num_workers=num_workers,  # 0 workers\n",
    "    drop_last=False,          # Keep incomplete batches\n",
    ")\n",
    "test_loader = DataLoader(\n",
    "    dataset=test_dataset,      # Test dataset\n",
    "    batch_size=batch_size,     # Same batch size\n",
    "    num_workers=num_workers,   # 0 workers\n",
    "    drop_last=False,           # Keep incomplete batches\n",
    ")\n"
   ]
  },
  {
   "cell_type": "code",
   "execution_count": 13,
   "id": "87d319dd-692a-4135-b959-0aedeb59862d",
   "metadata": {},
   "outputs": [
    {
     "name": "stdout",
     "output_type": "stream",
     "text": [
      "130 training batches\n",
      "19 validation batches\n",
      "38 test batches\n"
     ]
    }
   ],
   "source": [
    "print(f'{len(train_loader)} training batches')\n",
    "print(f'{len(val_loader)} validation batches')\n",
    "print(f'{len(test_loader)} test batches')"
   ]
  },
  {
   "cell_type": "code",
   "execution_count": 14,
   "id": "fe489630-0151-4b76-b52a-e3cc71f18e81",
   "metadata": {},
   "outputs": [],
   "source": [
    "# Initializing a model with pretrained weights\n",
    "CHOOSE_MODEL = 'gpt2-small (124M)'\n",
    "INPUT_PROMPT = 'Every effort moves'\n",
    "BASE_CONFIG = {\n",
    "    'vocab_size': 50257,          #1\n",
    "    'context_length': 1024,       #2\n",
    "    'drop_rate': 0.0,             #3\n",
    "    'qkv_bias': True              #4\n",
    "}\n",
    "model_configs = {\n",
    "    'gpt2-small (124M)': {'emb_dim': 768, 'n_layers': 12, 'n_heads': 12},\n",
    "    'gpt2-medium (355M)': {'emb_dim': 1024, 'n_layers': 24, 'n_heads': 16},\n",
    "    'gpt2-large (774M)': {'emb_dim': 1280, 'n_layers': 36, 'n_heads': 20},\n",
    "    'gpt2-xl (1558M)': {'emb_dim': 1600, 'n_layers': 48, 'n_heads': 25},\n",
    "}\n",
    "BASE_CONFIG.update(model_configs[CHOOSE_MODEL])"
   ]
  },
  {
   "cell_type": "code",
   "execution_count": 15,
   "id": "fd153c4f-260c-4158-8965-b9b57a998621",
   "metadata": {},
   "outputs": [
    {
     "name": "stdout",
     "output_type": "stream",
     "text": [
      "Set pad_token to eos_token.\n",
      "Model and tokenizer loaded successfully!\n"
     ]
    }
   ],
   "source": [
    "\n",
    "# 1. Choose model size\n",
    "model_name = \"gpt2\"  # Options: \"gpt2\", \"gpt2-medium\", \"gpt2-large\", \"gpt2-xl\"\n",
    "\n",
    "# 2. Load pre-trained model and tokenizer\n",
    "# from_pretrained(): Downloads pre-trained weights from Hugging Face\n",
    "tokenizer = GPT2Tokenizer.from_pretrained(model_name)  # Converts text to numbers (tokens) and back\n",
    "model = GPT2LMHeadModel.from_pretrained(model_name)    # The actual GPT-2 model with language modeling head\n",
    "\n",
    "# 3. Set padding token\n",
    "\"\"\"\n",
    "    Problem: Original GPT-2 doesn't have a dedicated padding token\n",
    "    Solution: Use the end-of-sequence (<|endoftext|>) token for padding\n",
    "    Why: Needed for batch processing with sequences of different lengths\n",
    "\"\"\"\n",
    "if tokenizer.pad_token is None:\n",
    "    tokenizer.pad_token = tokenizer.eos_token  # Use end-of-sequence token for padding\n",
    "    print(\"Set pad_token to eos_token.\")\n",
    "\n",
    "# 4. Set device (GPU/CPU)\n",
    "device = torch.device(\"cuda\" if torch.cuda.is_available() else \"cpu\")\n",
    "model.to(device)  # Move model to appropriate device\n",
    "\n",
    "# 5. Put model in evaluation mode\n",
    "model.eval()\n",
    "print(\"Model and tokenizer loaded successfully!\")"
   ]
  },
  {
   "cell_type": "code",
   "execution_count": 16,
   "id": "1e319b93-fb2c-4da7-bda3-dc14112fb24c",
   "metadata": {},
   "outputs": [],
   "source": [
    "\"\"\"\n",
    "    This code implements a greedy text generation algorithm using a GPT-style model.\n",
    "\"\"\"\n",
    "\n",
    "def generate_text_simple(model, idx, max_new_tokens, context_size):\n",
    "    # Loop for generating new tokens\n",
    "    for _ in range(max_new_tokens):\n",
    "        # 1. Truncate to context window\n",
    "        idx_cond = idx[:, -context_size:]\n",
    "        \n",
    "        # 2. Get model predictions (no gradients for efficiency)\n",
    "        \"\"\"\n",
    "            - When you pass it through a GPT-2 model (or any GPT2LMHeadModel), \n",
    "            - the model returns a CausalLMOutputWithCrossAttentions object, which has several attributes:\n",
    "            - print(output.keys())\n",
    "              -e.g. dict_keys(['logits', 'past_key_values', 'hidden_states', 'attentions'])\n",
    "\n",
    "            - output.logits is what we usually care about for predictions.\n",
    "        \"\"\"\n",
    "        with torch.no_grad():\n",
    "            output = model(idx_cond)      # Forward pass through the model\n",
    "            logits = output.logits        # Raw prediction scores for each token in vocabulary\n",
    "        \n",
    "        # 3. Focus on Last Token\n",
    "        logits = logits[:, -1, :]  # Shape: [batch_size, vocab_size] \n",
    "        \n",
    "        # 4. Convert logits to probabilities\n",
    "        probas = torch.softmax(logits, dim=-1)\n",
    "        \n",
    "        # 5. Greedy sampling: choose most likely token\n",
    "        idx_next = torch.argmax(probas, dim=-1, keepdim=True)\n",
    "        \n",
    "        # 6. Append new token to sequence\n",
    "        idx = torch.cat((idx, idx_next), dim=1)\n",
    "    \n",
    "    return idx"
   ]
  },
  {
   "cell_type": "code",
   "execution_count": 17,
   "id": "c0fa0f02-71b2-4c4c-bcfe-b098fc811160",
   "metadata": {},
   "outputs": [],
   "source": [
    "# We can implement the text generation process, as shown in the following listing.\n",
    "def text_to_token_ids(text, tokenizer):\n",
    "    #Converts a text string to a tensor of token IDs.\n",
    "    encoded = tokenizer.encode(text, allowed_special={'<|endoftext|>'})\n",
    "    encoded_tensor = torch.tensor(encoded).unsqueeze(0)    # Add batch dimension\n",
    "    return encoded_tensor\n",
    "\n",
    "def token_ids_to_text(token_ids, tokenizer):\n",
    "    #Converts token IDs back to text.\n",
    "    flat = token_ids.squeeze(0)                # Remove batch dimension\n",
    "    return tokenizer.decode(flat.tolist())"
   ]
  },
  {
   "cell_type": "code",
   "execution_count": 18,
   "id": "8e0d48ac-c20a-4fd4-845d-7b2de261e35a",
   "metadata": {},
   "outputs": [
    {
     "name": "stderr",
     "output_type": "stream",
     "text": [
      "Keyword arguments {'allowed_special': {'<|endoftext|>'}} not recognized.\n"
     ]
    },
    {
     "name": "stdout",
     "output_type": "stream",
     "text": [
      "Is the following text 'spam'? Answer with 'yes' or 'no'\n",
      "\n",
      "Spam is a common problem in the Internet age. It is a form of spam that is used to\n"
     ]
    }
   ],
   "source": [
    "text_1 = (\"Is the following text 'spam'? Answer with 'yes' or 'no'\")\n",
    "\n",
    "token_ids = generate_text_simple(\n",
    "    model=model,\n",
    "    idx=text_to_token_ids(text_1, tokenizer),\n",
    "    max_new_tokens=23,\n",
    "    context_size=BASE_CONFIG['context_length']\n",
    ")\n",
    "print(token_ids_to_text(token_ids, tokenizer))"
   ]
  },
  {
   "cell_type": "code",
   "execution_count": 19,
   "id": "cacbfde3-f8e1-4a25-b933-b3052940bf09",
   "metadata": {},
   "outputs": [
    {
     "name": "stdout",
     "output_type": "stream",
     "text": [
      "GPT2LMHeadModel(\n",
      "  (transformer): GPT2Model(\n",
      "    (wte): Embedding(50257, 768)\n",
      "    (wpe): Embedding(1024, 768)\n",
      "    (drop): Dropout(p=0.1, inplace=False)\n",
      "    (h): ModuleList(\n",
      "      (0-11): 12 x GPT2Block(\n",
      "        (ln_1): LayerNorm((768,), eps=1e-05, elementwise_affine=True)\n",
      "        (attn): GPT2Attention(\n",
      "          (c_attn): Conv1D(nf=2304, nx=768)\n",
      "          (c_proj): Conv1D(nf=768, nx=768)\n",
      "          (attn_dropout): Dropout(p=0.1, inplace=False)\n",
      "          (resid_dropout): Dropout(p=0.1, inplace=False)\n",
      "        )\n",
      "        (ln_2): LayerNorm((768,), eps=1e-05, elementwise_affine=True)\n",
      "        (mlp): GPT2MLP(\n",
      "          (c_fc): Conv1D(nf=3072, nx=768)\n",
      "          (c_proj): Conv1D(nf=768, nx=3072)\n",
      "          (act): NewGELUActivation()\n",
      "          (dropout): Dropout(p=0.1, inplace=False)\n",
      "        )\n",
      "      )\n",
      "    )\n",
      "    (ln_f): LayerNorm((768,), eps=1e-05, elementwise_affine=True)\n",
      "  )\n",
      "  (lm_head): Linear(in_features=768, out_features=50257, bias=False)\n",
      ")\n"
     ]
    }
   ],
   "source": [
    "print(model)"
   ]
  },
  {
   "cell_type": "code",
   "execution_count": 20,
   "id": "ee1d1f93-a940-425b-b867-0c9cce8f4910",
   "metadata": {},
   "outputs": [],
   "source": [
    "# This code freezes all the parameters of a PyTorch model\n",
    "for param in model.parameters():    # Returns an iterator over all learnable parameters of the model\n",
    "    param.requires_grad = False     # Freezes the parameter at its current value"
   ]
  },
  {
   "cell_type": "code",
   "execution_count": 21,
   "id": "adea9880-1072-455f-8315-addf2e7f10b5",
   "metadata": {},
   "outputs": [],
   "source": [
    "# we replace the output layer (model.out_head), which originally maps the layer inputs to 50,257 dimensions, \n",
    "\n",
    "torch.manual_seed(123)\n",
    "num_classes = 2\n",
    "\n",
    "\"\"\"\n",
    "     * GPT-2 is originally a language model:\n",
    "        - lm_head is the linear layer that maps the hidden states to the vocabulary logits (for predicting the next token).\n",
    "        - Original shape: [hidden_size, vocab_size] → e.g., [768, 50257] for gpt2-small.\n",
    "     * Here, you replace the LM head with a new linear layer:\n",
    "        - model.config.n_embd → the embedding dimension (hidden size of GPT-2, usually 768 for gpt2-small).\n",
    "        - 2 → output size = number of classes.\n",
    "\n",
    "     * The GPT-2 model now outputs 2 logits per token instead of predicting the next word.\n",
    "     * You can use these logits for binary classification (spam/ham).\n",
    "\"\"\"\n",
    "model.lm_head = torch.nn.Linear(model.config.n_embd, 2)\n",
    "\n",
    "\n",
    "\"\"\"\n",
    "    * Updates the GPT-2 configuration to match the new output layer.\n",
    "    * Without updating it, there could be shape mismatches or warnings.\n",
    "    * Why? Because some parts of Hugging Face’s code (e.g., generating outputs or calculating loss) rely on config.vocab_size.\n",
    "\"\"\"\n",
    "model.config.vocab_size = 2  # keep config consistent"
   ]
  },
  {
   "cell_type": "code",
   "execution_count": 22,
   "id": "181fbe96-b5b2-40ea-8d81-e6be1195385d",
   "metadata": {},
   "outputs": [
    {
     "name": "stdout",
     "output_type": "stream",
     "text": [
      "GPT2LMHeadModel(\n",
      "  (transformer): GPT2Model(\n",
      "    (wte): Embedding(50257, 768)\n",
      "    (wpe): Embedding(1024, 768)\n",
      "    (drop): Dropout(p=0.1, inplace=False)\n",
      "    (h): ModuleList(\n",
      "      (0-11): 12 x GPT2Block(\n",
      "        (ln_1): LayerNorm((768,), eps=1e-05, elementwise_affine=True)\n",
      "        (attn): GPT2Attention(\n",
      "          (c_attn): Conv1D(nf=2304, nx=768)\n",
      "          (c_proj): Conv1D(nf=768, nx=768)\n",
      "          (attn_dropout): Dropout(p=0.1, inplace=False)\n",
      "          (resid_dropout): Dropout(p=0.1, inplace=False)\n",
      "        )\n",
      "        (ln_2): LayerNorm((768,), eps=1e-05, elementwise_affine=True)\n",
      "        (mlp): GPT2MLP(\n",
      "          (c_fc): Conv1D(nf=3072, nx=768)\n",
      "          (c_proj): Conv1D(nf=768, nx=3072)\n",
      "          (act): NewGELUActivation()\n",
      "          (dropout): Dropout(p=0.1, inplace=False)\n",
      "        )\n",
      "      )\n",
      "    )\n",
      "    (ln_f): LayerNorm((768,), eps=1e-05, elementwise_affine=True)\n",
      "  )\n",
      "  (lm_head): Linear(in_features=768, out_features=2, bias=True)\n",
      ")\n"
     ]
    }
   ],
   "source": [
    "print(model)"
   ]
  },
  {
   "cell_type": "code",
   "execution_count": 23,
   "id": "90a52737-e2a1-4453-9ff4-d5929465562d",
   "metadata": {},
   "outputs": [],
   "source": [
    "# This code implements partial unfreezing of specific layers in a GPT-2 model for fine-tuning.\n",
    "\"\"\"\n",
    "    * Why do this? Full GPT-2 has millions of parameters. Fine-tuning all layers can be:\n",
    "      - Slow\n",
    "      - Memory-intensive\n",
    "      - Prone to overfitting with small datasets\n",
    "      \n",
    "    * Selective fine-tuning (head + last block + LayerNorm):\n",
    "      - Reduces the number of trainable parameters.\n",
    "      - Still allows the model to adapt to your new task (spam/ham classification)\n",
    "\"\"\"\n",
    "\n",
    "\n",
    "# 1. Unfreeze the language modeling head\n",
    "\"\"\"\n",
    "    * lm_head is the linear layer we replaced for classification.\n",
    "    * Setting requires_grad = True ensures the model will train this new output layer, which is essential.\n",
    "\"\"\"\n",
    "for param in model.lm_head.parameters():\n",
    "    param.requires_grad = True\n",
    "\n",
    "# 2. Unfreeze the last transformer block\n",
    "\"\"\"\n",
    "    * model.transformer.h is a list of GPT-2’s transformer blocks.\n",
    "    * [-1] selects the last block.\n",
    "    * Training the last block helps the model adapt its deep contextual representations to your classification task.\n",
    "\"\"\"\n",
    "for param in model.transformer.h[-1].parameters():\n",
    "    param.requires_grad = True\n",
    "\n",
    "# 3. Unfreeze the final LayerNorm\n",
    "\"\"\"\n",
    "    * ln_f is the final LayerNorm applied after the last transformer block.\n",
    "    * Fine-tuning it allows the model to normalize activations properly for the new task.\n",
    "\"\"\"\n",
    "for param in model.transformer.ln_f.parameters():\n",
    "    param.requires_grad = True"
   ]
  },
  {
   "cell_type": "code",
   "execution_count": 24,
   "id": "ef55372d-c99e-4aea-8eb8-e6fb0a6954cc",
   "metadata": {},
   "outputs": [
    {
     "name": "stdout",
     "output_type": "stream",
     "text": [
      "Inputs: tensor([[5211,  345,  423,  640]])\n",
      "Inputs dimensions: torch.Size([1, 4])\n"
     ]
    }
   ],
   "source": [
    "\"\"\"\n",
    "    * This code prepares text input for a transformer model like GPT-2.\n",
    "    \n",
    "\"\"\"\n",
    "# 1. Convert text to token IDs\n",
    "inputs = tokenizer.encode('Do you have time')\n",
    "\n",
    "# 2. Convert to tensor and add batch dimension\n",
    "inputs = torch.tensor(inputs).unsqueeze(0)\n",
    "\n",
    "# 3. Print results\n",
    "print('Inputs:', inputs)\n",
    "print('Inputs dimensions:', inputs.shape)    #1"
   ]
  },
  {
   "cell_type": "code",
   "execution_count": 25,
   "id": "7eafdf65-5e79-4557-ac31-3330df854082",
   "metadata": {},
   "outputs": [
    {
     "name": "stdout",
     "output_type": "stream",
     "text": [
      "Outputs:\n",
      " tensor([[[-1.5854,  0.9903],\n",
      "         [-3.7235,  7.4548],\n",
      "         [-2.2661,  6.6049],\n",
      "         [-3.5983,  3.9902]]])\n",
      "Outputs dimensions: torch.Size([1, 4, 2])\n"
     ]
    }
   ],
   "source": [
    "\"\"\"\n",
    "    * This tells PyTorch not to compute gradients.\n",
    "    * Why?\n",
    "      - We are doing inference, not training.\n",
    "      - Saves memory and computation, because no backpropagation is needed.\n",
    "\"\"\"\n",
    "with torch.no_grad():\n",
    "    \"\"\"\n",
    "        * Forward pass through the model\n",
    "          - inputs is a tensor of token IDs with shape [batch_size, sequence_length].\n",
    "          - Example: [1, 4] → batch size 1, 4 tokens.\n",
    "          - model(inputs) passes the tokens through GPT-2.\n",
    "          - The output is a CausalLMOutputWithCrossAttentions object, which contains several attributes, most importantly:\n",
    "            - outputs.keys()\n",
    "            - dict_keys(['logits', 'past_key_values', 'hidden_states', 'attentions'])         \n",
    "    \"\"\"\n",
    "    outputs = model(inputs)\n",
    "\n",
    "    \"\"\"\n",
    "        * For classification or next-token prediction, we focus on outputs.logits.\n",
    "         - logits are the raw predictions before applying softmax.\n",
    "         - Shape of logits: (batch_size, sequence_length, vocab_size)\n",
    "    \"\"\"\n",
    "    logits = outputs.logits\n",
    "print('Outputs:\\n', logits)\n",
    "print('Outputs dimensions:', logits.shape)"
   ]
  },
  {
   "cell_type": "code",
   "execution_count": 26,
   "id": "fe72ed5e-d2aa-4b82-9b28-aa7a918dc041",
   "metadata": {},
   "outputs": [
    {
     "name": "stdout",
     "output_type": "stream",
     "text": [
      "Last output token: tensor([[-3.5983,  3.9902]])\n"
     ]
    }
   ],
   "source": [
    "\"\"\"\n",
    "    * logits is usually the raw output of GPT-2, with shape:\n",
    "      - (batch_size, sequence_length, vocab_size or num_classes)\n",
    "      \n",
    "    * logits[:, -1, :] gives us the predictions based on the last token.\n",
    "     - : (first dimension) → select all sequences in the batch\n",
    "     - -1 (second dimension) → select the last token in the input sequence\n",
    "     - : (third dimension) → select all logits for the vocabulary or classes\n",
    "\"\"\"\n",
    "print('Last output token:', logits[:, -1, :])"
   ]
  },
  {
   "cell_type": "code",
   "execution_count": 27,
   "id": "3ddfeae8-7c5e-4805-941f-6ca3bea50f9f",
   "metadata": {},
   "outputs": [
    {
     "name": "stdout",
     "output_type": "stream",
     "text": [
      "Class label: 1\n"
     ]
    }
   ],
   "source": [
    "\"\"\"\n",
    "    * Converts raw logits into probabilities that sum to 1.\n",
    "\"\"\"\n",
    "probas = torch.softmax(logits[:, -1, :], dim=-1)\n",
    "\n",
    "\"\"\"\n",
    "    * Finds the index of the maximum probability, i.e., the predicted class.\n",
    "    * For binary classification ([ham, spam]), the result is either 0 or 1.\n",
    "\"\"\"\n",
    "label = torch.argmax(probas)\n",
    "\n",
    "\"\"\"\n",
    "    * label is a tensor with a single value.\n",
    "    * .item() converts it into a Python integer for easy printing.\n",
    "\"\"\"\n",
    "print('Class label:', label.item())"
   ]
  },
  {
   "cell_type": "code",
   "execution_count": 28,
   "id": "048c62cd-41b4-44cb-b1be-36ab02e1d320",
   "metadata": {},
   "outputs": [],
   "source": [
    "def calc_accuracy_loader(data_loader, model, device, num_batches=None):\n",
    "    # 1. Set model to evaluation mode\n",
    "    model.eval()        # Puts the model in evaluation mode. Disables things like dropout and layer normalization updates.\n",
    "    num_examples = 0    # total number of samples processed.\n",
    "    num_correct = 0     # number of correct predictions.\n",
    "    \n",
    "    # 2. Determine how many batches to process\n",
    "    if num_batches is None:\n",
    "        num_batches = len(data_loader)  # Process all batches\n",
    "    else:\n",
    "        num_batches = min(num_batches, len(data_loader))  # Process up to num_batches\n",
    "    \n",
    "    # 3. Disable gradient computation for efficiency. \n",
    "    with torch.no_grad():\n",
    "        # 4. Iterate through batches\n",
    "        for i, (input_batch, target_batch) in enumerate(data_loader):\n",
    "            if i >= num_batches:\n",
    "                break\n",
    "            # 5. Move data to appropriate device (GPU/CPU)\n",
    "            input_batch = input_batch.to(device)\n",
    "            target_batch = target_batch.to(device)\n",
    "            \n",
    "            # 6. Get model predictions\n",
    "            outputs = model(input_batch)       # Hugging Face output\n",
    "            logits = outputs.logits            # Extract tensor\n",
    "            preds = torch.argmax(logits[:, -1, :], dim=-1)  # last token\n",
    "            \n",
    "            # 7. Count correct predictions\n",
    "            num_correct += (preds == target_batch).sum().item()\n",
    "            num_examples += target_batch.size(0)\n",
    "    \n",
    "    # 8. Calculate final accuracy\n",
    "    accuracy = num_correct / num_examples if num_examples > 0 else 0\n",
    "    return accuracy"
   ]
  },
  {
   "cell_type": "code",
   "execution_count": 29,
   "id": "ccfc126a-8e71-4c58-8510-0ac71ebb4ac1",
   "metadata": {},
   "outputs": [
    {
     "name": "stdout",
     "output_type": "stream",
     "text": [
      "Training accuracy: 40.00%\n",
      "Validation accuracy: 50.00%\n",
      "Test accuracy: 55.00%\n"
     ]
    }
   ],
   "source": [
    "# Checks if a GPU is available or not.\n",
    "device = torch.device('cuda' if torch.cuda.is_available() else 'cpu')\n",
    "model.to(device)\n",
    "\n",
    "torch.manual_seed(123)\n",
    "\n",
    "# Calls the accuracy function we discussed earlier.\n",
    "train_accuracy = calc_accuracy_loader(\n",
    "    train_loader, model, device, num_batches=5\n",
    ")\n",
    "val_accuracy = calc_accuracy_loader(\n",
    "    val_loader, model, device, num_batches=5\n",
    ")\n",
    "test_accuracy = calc_accuracy_loader(\n",
    "    test_loader, model, device, num_batches=5\n",
    ")\n",
    "\n",
    "print(f'Training accuracy: {train_accuracy*100:.2f}%')\n",
    "print(f'Validation accuracy: {val_accuracy*100:.2f}%')\n",
    "print(f'Test accuracy: {test_accuracy*100:.2f}%')"
   ]
  },
  {
   "cell_type": "code",
   "execution_count": 30,
   "id": "031daa06-8093-4cd1-bf0e-1423716826a4",
   "metadata": {},
   "outputs": [],
   "source": [
    "def calc_loss_batch(input_batch, target_batch, model, device):\n",
    "    # 1. Move data to appropriate device\n",
    "    input_batch = input_batch.to(device)\n",
    "    target_batch = target_batch.to(device)\n",
    "    \n",
    "    # 2. Get model predictions\n",
    "    outputs = model(input_batch)   # ModelOutput object\n",
    "    logits = outputs.logits        # Tensor shape: [batch, seq_len, num_classes]\n",
    "    \n",
    "    # 3. Focus on last token for classification\n",
    "    logits = logits[:, -1, :]      # Take last token for classification\n",
    "    \n",
    "    # 4. Calculate cross-entropy loss\n",
    "    loss = torch.nn.functional.cross_entropy(logits, target_batch)\n",
    "    return loss\n"
   ]
  },
  {
   "cell_type": "code",
   "execution_count": 31,
   "id": "46653c37-0eb9-4ad7-bcec-32e67ba4a7c8",
   "metadata": {},
   "outputs": [],
   "source": [
    "\"\"\"\n",
    "    * This code calculates the average loss across an entire data loader (multiple batches).\n",
    "\"\"\"\n",
    "\n",
    "def calc_loss_loader(data_loader, model, device, num_batches=None):\n",
    "    total_loss = 0.  # Initialize total loss\n",
    "    \n",
    "    # 1. Handle empty data loader\n",
    "    if len(data_loader) == 0:\n",
    "        return float('nan')      # If the provided data_loader has no data, returns NaN (Not a Number).\n",
    "    \n",
    "    # 2. Determine number of batches to process\n",
    "    elif num_batches is None:\n",
    "        num_batches = len(data_loader)  # Process all batches\n",
    "    else:                                    \n",
    "        num_batches = min(num_batches, len(data_loader))  # Process up to num_batches\n",
    "    \n",
    "    # 3. Iterate through batches and accumulate loss\n",
    "    \"\"\"\n",
    "        * input_batch: The input features (e.g., tokenized text).\n",
    "        * target_batch: The labels (e.g., spam or ham).\n",
    "        \n",
    "    \"\"\"\n",
    "    for i, (input_batch, target_batch) in enumerate(data_loader):\n",
    "        if i < num_batches:\n",
    "            # Calculate loss for current batch\n",
    "            loss = calc_loss_batch(\n",
    "                input_batch, target_batch, model, device\n",
    "            )\n",
    "            total_loss += loss.item()  # Add to total\n",
    "        else:\n",
    "            break   # Stop processing if limit reached\n",
    "    \n",
    "    # 4. Return average loss\n",
    "    return total_loss / num_batches"
   ]
  },
  {
   "cell_type": "code",
   "execution_count": 32,
   "id": "d715e237-41ba-447f-9a84-2f280f5032eb",
   "metadata": {},
   "outputs": [
    {
     "name": "stdout",
     "output_type": "stream",
     "text": [
      "Training loss: 2.453\n",
      "Validation loss: 2.583\n",
      "Test loss: 2.322\n"
     ]
    }
   ],
   "source": [
    "\n",
    "\"\"\"\n",
    "    * Examin the  calc_loss_loader() function on train_loader, val_loader, and test_loader\n",
    "    * Disables gradient computation: No need for gradients during evaluation\n",
    "    * Memory efficient: Uses less memory without gradient tracking\n",
    "    * Faster computation: No overhead of maintaining computation graph\n",
    "    * Prevents accidental training: Ensures model weights aren't updated\n",
    "\"\"\"\n",
    "\n",
    "# 1. Disable gradient computation for evaluation\n",
    "with torch.no_grad(): \n",
    "    # 2. Calculate loss on training set (subset): Measures how well model fits the training data\n",
    "    train_loss = calc_loss_loader(train_loader, model, device, num_batches=5)\n",
    "    # 3. Calculate loss on validation set (subset): Tracks generalization performance during training\n",
    "    val_loss = calc_loss_loader(val_loader, model, device, num_batches=5)\n",
    "    # 4. Calculate loss on test set (subset):  Final evaluation on unseen data (true performance measure)\n",
    "    test_loss = calc_loss_loader(test_loader, model, device, num_batches=5)\n",
    "\n",
    "\"\"\"\n",
    "    Typical Output Interpretation:\n",
    "      * Good scenario: All losses are low and close together.\n",
    "      * Overfitting: Training loss << Validation/Test loss\n",
    "      * Underfitting: All losses are high and similar\n",
    "\"\"\"\n",
    "\n",
    "# 5. Print the results\n",
    "print(f'Training loss: {train_loss:.3f}')\n",
    "print(f'Validation loss: {val_loss:.3f}')\n",
    "print(f'Test loss: {test_loss:.3f}')"
   ]
  },
  {
   "cell_type": "code",
   "execution_count": 33,
   "id": "fa672344-baea-471d-83a6-059874488878",
   "metadata": {},
   "outputs": [],
   "source": [
    "\"\"\"\n",
    "    * This code implements a complete training loop for a classifier model\n",
    "     - num_epochs: Total number of complete passes through training data\n",
    "     - eval_freq: How often to evaluate (every N steps)\n",
    "     - eval_iter: Number of batches to use for evaluation\n",
    "\"\"\"\n",
    "\n",
    "def train_classifier_simple(\n",
    "        model, train_loader, val_loader, optimizer, device,\n",
    "        num_epochs, eval_freq, eval_iter):\n",
    "    \n",
    "    # 1. Initialize tracking lists\n",
    "\n",
    "    # Loss/accuracy lists: Store metrics for plotting/analysis\n",
    "    train_losses, val_losses, train_accs, val_accs = [], [], [], [] \n",
    "\n",
    "    # examples_seen: Count total training examples processed\n",
    "    # global_step: Track number of parameter updates\n",
    "    examples_seen, global_step = 0, -1\n",
    "\n",
    "    \"\"\"\n",
    "    * Training Process Flow: For each epoch → For each batch:\n",
    "       - Zero gradients\n",
    "       - Compute loss\n",
    "       - Backpropagate\n",
    "       - Update weights\n",
    "       - Occasionally \n",
    "       - evaluate\n",
    "    \"\"\"\n",
    "    # 2. Epoch loop\n",
    "    for epoch in range(num_epochs): \n",
    "        \"\"\"\n",
    "            * Training Mode\n",
    "              - Enables training-specific behaviors: dropout, batch norm updating\n",
    "              - Must be called: Before each training epoch\n",
    "        \"\"\"\n",
    "        model.train()\n",
    "\n",
    "        # 3. Batch processing loop\n",
    "        # Standard training loop: Zero → Forward → Backward → Update\n",
    "        for input_batch, target_batch in train_loader:\n",
    "            optimizer.zero_grad()    # Reset gradients\n",
    "            loss = calc_loss_batch(input_batch, target_batch, model, device)\n",
    "            loss.backward()     # Compute gradients\n",
    "            optimizer.step()    # Update weights\n",
    "            examples_seen += input_batch.shape[0]\n",
    "            global_step += 1\n",
    "\n",
    "            # 4. Frequent evaluation during training\n",
    "            if global_step % eval_freq == 0:\n",
    "                train_loss, val_loss = evaluate_model(\n",
    "                    model, train_loader, val_loader, device, eval_iter)\n",
    "                train_losses.append(train_loss)\n",
    "                val_losses.append(val_loss)\n",
    "                print(f'Epock {epoch+1} (Step {global_step:06d}): '\n",
    "                      f'Train loss {train_loss:.3f}, '\n",
    "                      f'Val loss {val_loss:.3f}'\n",
    "                )\n",
    "\n",
    "        # 5. End-of-epoch evaluation\n",
    "        \"\"\"\n",
    "            * After each epoch:\n",
    "             - Compute accuracy metrics\n",
    "             - Store results\n",
    "             - Print progress\n",
    "        \"\"\"\n",
    "        train_accuracy = calc_accuracy_loader(train_loader, model, device, num_batches=eval_iter)\n",
    "        val_accuracy = calc_accuracy_loader(val_loader, model, device, num_batches=eval_iter)\n",
    "\n",
    "        print(f'Training accuracy: {train_accuracy*100:.2f}% | ', end='')\n",
    "        print(f'Validation accuracy: {val_accuracy*100:.2f}%')\n",
    "        train_accs.append(train_accuracy)\n",
    "        val_accs.append(val_accuracy)\n",
    "\n",
    "    return train_losses, val_losses, train_accs, val_accs, examples_seen"
   ]
  },
  {
   "cell_type": "code",
   "execution_count": 34,
   "id": "6687507f-dab4-4f70-a13a-3471aa38566b",
   "metadata": {},
   "outputs": [],
   "source": [
    "\"\"\"\n",
    "    * This code implements a model evaluation function that calculates loss on both training and validation datasets.\n",
    "    \n",
    "\"\"\"\n",
    "\n",
    "def evaluate_model(model, train_loader, val_loader, device, eval_iter):\n",
    "    # 1. Set model to evaluation mode\n",
    "    model.eval()\n",
    "    \n",
    "    # 2. Disable gradient computation for efficiency\n",
    "    with torch.no_grad():\n",
    "        # 3. Calculate training loss\n",
    "        train_loss = calc_loss_loader(\n",
    "            train_loader, model, device, num_batches=eval_iter\n",
    "        )\n",
    "        # 4. Calculate validation loss\n",
    "        val_loss = calc_loss_loader(\n",
    "            val_loader, model, device, num_batches=eval_iter\n",
    "        )\n",
    "    \n",
    "    # 5. Restore model to training mode\n",
    "    model.train()\n",
    "    \n",
    "    # 6. Return both loss values\n",
    "    return train_loss, val_loss"
   ]
  },
  {
   "cell_type": "code",
   "execution_count": 35,
   "id": "e2b30364-747c-43df-95d6-cae8dd5fb52f",
   "metadata": {},
   "outputs": [
    {
     "name": "stdout",
     "output_type": "stream",
     "text": [
      "Epock 1 (Step 000000): Train loss 2.630, Val loss 2.399\n",
      "Epock 1 (Step 000050): Train loss 0.794, Val loss 0.776\n",
      "Epock 1 (Step 000100): Train loss 0.646, Val loss 0.735\n",
      "Training accuracy: 92.50% | Validation accuracy: 85.00%\n",
      "Epock 2 (Step 000150): Train loss 0.629, Val loss 0.690\n",
      "Epock 2 (Step 000200): Train loss 0.564, Val loss 0.651\n",
      "Epock 2 (Step 000250): Train loss 0.572, Val loss 0.569\n",
      "Training accuracy: 67.50% | Validation accuracy: 67.50%\n",
      "Training completed in 55.01 minutes.\n"
     ]
    }
   ],
   "source": [
    "\n",
    "\"\"\"\n",
    "    * This code sets up and executes the training process for the spam classification model.\n",
    "\"\"\"\n",
    "\n",
    "# 1. Start timer to measure training duration\n",
    "start_time = time.time()\n",
    "\n",
    "# 2. Set random seed for reproducibility\n",
    "torch.manual_seed(123)\n",
    "\n",
    "# 3. Initialize optimizer with specific settings\n",
    "\"\"\"\n",
    "    * AdamW optimizer: Improved version of Adam with decoupled weight decay\n",
    "    * Learning rate (lr=5e-5): Common rate for fine-tuning transformers\n",
    "    * Weight decay (0.1): Regularization to prevent overfitting\n",
    "    * Applies to all parameters: model.parameters() includes all trainable weights\n",
    "\"\"\"\n",
    "optimizer = torch.optim.AdamW(model.parameters(), lr=5e-5, weight_decay=0.1)\n",
    "\n",
    "# 4. Set number of training epochs, eval_freq, and eval_iter\n",
    "num_epochs = 2 # 2 epochs for quick experimentation\n",
    "eval_freq = 50  # Evaluate every 50 training steps\n",
    "eval_iter = 5   # Use 5 batches for each evaluation (for speed)\n",
    "\n",
    "\n",
    "# 5. Execute the training process\n",
    "# Returns tracking metrics: Losses and accuracies for analysis\n",
    "train_losses, val_losses, train_accs, val_accs, examples_seen = \\\n",
    "    train_classifier_simple(\n",
    "        model, train_loader, val_loader, optimizer, device,\n",
    "        num_epochs=num_epochs, eval_freq=eval_freq,\n",
    "        eval_iter=eval_iter\n",
    "    )\n",
    "\n",
    "# 6. Calculate and display training time\n",
    "# Performance monitoring: How long training took\n",
    "end_time = time.time()\n",
    "execution_time_minutes = (end_time - start_time) / 60\n",
    "print(f'Training completed in {execution_time_minutes:.2f} minutes.')"
   ]
  },
  {
   "cell_type": "code",
   "execution_count": 36,
   "id": "6f829bb7-535e-4f4a-83b6-cbaf8389e5b4",
   "metadata": {},
   "outputs": [
    {
     "data": {
      "image/png": "[encoded data removed]",
      "text/plain": [
       "<Figure size 800x500 with 1 Axes>"
      ]
     },
     "metadata": {},
     "output_type": "display_data"
    },
    {
     "data": {
      "image/png": "[encoded data removed]",
      "text/plain": [
       "<Figure size 800x500 with 1 Axes>"
      ]
     },
     "metadata": {},
     "output_type": "display_data"
    }
   ],
   "source": [
    "# Plot just losses\n",
    "def plot_losses(train_losses, val_losses, title_suffix=\"\"):\n",
    "    plt.figure(figsize=(8, 5))\n",
    "    x_vals = range(len(train_losses))\n",
    "    plt.plot(x_vals, train_losses, 'b-', linewidth=2, label='Training Loss')\n",
    "    plt.plot(x_vals, val_losses, 'r-', linewidth=2, label='Validation Loss')\n",
    "    plt.xlabel('Evaluation Steps')\n",
    "    plt.ylabel('Loss')\n",
    "    plt.title(f'Training vs Validation Loss {title_suffix}')\n",
    "    plt.legend()\n",
    "    plt.grid(True, alpha=0.3)\n",
    "    plt.show()\n",
    "\n",
    "# Plot just accuracies\n",
    "def plot_accuracies(train_accs, val_accs, title_suffix=\"\"):\n",
    "    plt.figure(figsize=(8, 5))\n",
    "    x_vals = range(len(train_accs))\n",
    "    plt.plot(x_vals, train_accs, 'b-', linewidth=2, label='Training Accuracy')\n",
    "    plt.plot(x_vals, val_accs, 'r-', linewidth=2, label='Validation Accuracy')\n",
    "    plt.xlabel('Epochs')\n",
    "    plt.ylabel('Accuracy')\n",
    "    plt.title(f'Training vs Validation Accuracy {title_suffix}')\n",
    "    plt.legend()\n",
    "    plt.grid(True, alpha=0.3)\n",
    "    plt.show()\n",
    "\n",
    "# Usage\n",
    "plot_losses(train_losses, val_losses)\n",
    "plot_accuracies(train_accs, val_accs)"
   ]
  },
  {
   "cell_type": "code",
   "execution_count": 41,
   "id": "8463f8a3-6b44-4dcd-8fa2-45c4f684e939",
   "metadata": {},
   "outputs": [
    {
     "name": "stdout",
     "output_type": "stream",
     "text": [
      "Training accuracy: 74.42%\n",
      "Validation accuracy: 68.46%\n",
      "Test accuracy: 76.33%\n"
     ]
    }
   ],
   "source": [
    "\"\"\"\n",
    "    * This code evaluates your fine-tuned model’s accuracy on three datasets—training, validation, and test.\n",
    "\"\"\"\n",
    "\n",
    "train_accuracy = calc_accuracy_loader(train_loader, model, device)\n",
    "val_accuracy = calc_accuracy_loader(val_loader, model, device)\n",
    "test_accuracy = calc_accuracy_loader(test_loader, model, device)\n",
    "\n",
    "print(f'Training accuracy: {train_accuracy*100:.2f}%')\n",
    "print(f'Validation accuracy: {val_accuracy*100:.2f}%')\n",
    "print(f'Test accuracy: {test_accuracy*100:.2f}%')"
   ]
  },
  {
   "cell_type": "code",
   "execution_count": 45,
   "id": "76e57635-9657-4c77-96cf-afe2d96055d9",
   "metadata": {},
   "outputs": [],
   "source": [
    "\"\"\"\n",
    "    * This function classifies a single text string (e.g., an email or SMS) as spam or not spam using a fine-tuned GPT-2 model.\n",
    "     - text: The input string to classify.\n",
    "     - model: The fine-tuned GPT-2 model for classification.\n",
    "     - tokenizer: Converts text into numerical tokens.\n",
    "     - device: Indicates whether to run on GPU ('cuda') or CPU.\n",
    "     - max_length: Maximum number of tokens allowed for input.\n",
    "     - pad_token_id: ID used to pad shorter sequences (50256 is GPT-2’s padding/end-of-text token).\n",
    "\"\"\"\n",
    "\n",
    "def classify_review(\n",
    "        text, model, tokenizer, device, max_length=None,\n",
    "        pad_token_id=50256):\n",
    "    \n",
    "    model.eval()\n",
    "\n",
    "    # Converts the input string into a list of token IDs the model can understand.\n",
    "    input_ids = tokenizer.encode(text)   \n",
    "\n",
    "    \"\"\"\n",
    "       * supported_context_length: The maximum number of positions GPT-2 supports (e.g., 1024 tokens for GPT-2 small).\n",
    "       * min(max_length, supported_context_length): Ensures the input sequence does not exceed.\n",
    "         - The model’s limit.\n",
    "         - The user-defined max_length.\n",
    "       * Truncates long texts to avoid errors.\n",
    "       * model.config.n_positions is the maximum sequence length GPT-2 supports (e.g., 1024).\n",
    "    \"\"\"\n",
    "    supported_context_length = model.config.n_positions\n",
    "    input_ids = input_ids[:min(max_length, supported_context_length)]\n",
    "\n",
    "    \"\"\" Pad sequences to uniform length: (important for batching in PyTorch).\n",
    "        If the input is shorter than max_length, pad it with the pad_token_id so all sequences have equal length.\n",
    "    \"\"\"\n",
    "    input_ids += [pad_token_id] * (max_length - len(input_ids))\n",
    "\n",
    "    \"\"\"\n",
    "        * Convert to tensor and add batch dimension.\n",
    "        * Converts the list of token IDs into a PyTorch tensor on the correct device (GPU/CPU).\n",
    "        * .unsqueeze(0): Adds a batch dimension, so the shape becomes (1, max_length).\n",
    "    \"\"\"\n",
    "    input_tensor = torch.tensor(input_ids, device=device).unsqueeze(0)\n",
    "\n",
    "    # Turns off gradient calculations to speed up inference and save memory, since we’re not training here.\n",
    "    with torch.no_grad(): \n",
    "        output = model(input_tensor).logits\n",
    "        logits = output[:, -1, :]     # [:, -1, :]: Selects only the last token’s logits for classification.\n",
    "    \"\"\"\n",
    "        * torch.argmax(logits, dim=-1): Finds the class with the highest probability.\n",
    "        * .item(): Converts the PyTorch scalar to a Python integer.\n",
    "        * Returns \"spam\" if the predicted class index is 1; otherwise \"not spam\".\n",
    "    \"\"\"\n",
    "    predicted_label = torch.argmax(logits, dim=-1).item()\n",
    "\n",
    "    return 'spam' if predicted_label == 1 else 'not spam' "
   ]
  },
  {
   "cell_type": "code",
   "execution_count": 46,
   "id": "820d9a86-5762-49b9-9a66-5ce7c7e81cb5",
   "metadata": {},
   "outputs": [
    {
     "name": "stdout",
     "output_type": "stream",
     "text": [
      "spam\n"
     ]
    }
   ],
   "source": [
    "text_1 = (\n",
    "    'You are a winner you have been specially'\n",
    "    ' selected to receive $1000 cash or a $2000 award.'\n",
    ")\n",
    "\n",
    "print(classify_review(text_1, model, tokenizer, device, max_length=train_dataset.max_length))"
   ]
  },
  {
   "cell_type": "code",
   "execution_count": 47,
   "id": "8a3b987e-333e-4a0f-90a7-cc21f3369087",
   "metadata": {},
   "outputs": [
    {
     "name": "stdout",
     "output_type": "stream",
     "text": [
      "not spam\n"
     ]
    }
   ],
   "source": [
    "text_2 = (\n",
    "    'Hey, can you come to the University? '\n",
    ")\n",
    "\n",
    "print(classify_review(text_2, model, tokenizer, device, max_length=train_dataset.max_length))"
   ]
  },
  {
   "cell_type": "code",
   "execution_count": 50,
   "id": "9b67fe79-3345-4579-bf49-3ba612dbaf6e",
   "metadata": {},
   "outputs": [
    {
     "name": "stdout",
     "output_type": "stream",
     "text": [
      "Fine-tuning completed and saved to gpt2_finetuned_classification.pth!\n"
     ]
    }
   ],
   "source": [
    "# --------------------------\n",
    "# 5. Save the fine-tuned model\n",
    "# --------------------------\n",
    "torch.save({\n",
    "    \"model_state_dict\": model.state_dict(),\n",
    "    \"optimizer_state_dict\": optimizer.state_dict(),\n",
    "}, \"gpt2_finetuned_classification.pth\")\n",
    "\n",
    "print(\"Fine-tuning completed and saved to gpt2_finetuned_classification.pth!\")"
   ]
  },
  {
   "cell_type": "code",
   "execution_count": 51,
   "id": "70a3669d-0f8a-4de8-9fed-aea5bb93e47c",
   "metadata": {},
   "outputs": [
    {
     "name": "stdout",
     "output_type": "stream",
     "text": [
      "Model and optimizer successfully restored!\n"
     ]
    }
   ],
   "source": [
    "\n",
    "# 1. Recreate the same model architecture you used for training\n",
    "model_2 = GPT2LMHeadModel.from_pretrained(\"gpt2\")\n",
    "\n",
    "# Replace the LM head for classification (2 classes)\n",
    "model_2.lm_head = torch.nn.Linear(model_2.config.n_embd, 2)\n",
    "\n",
    "# 2. Move model to the same device\n",
    "device = torch.device(\"cuda\" if torch.cuda.is_available() else \"cpu\")\n",
    "model_2.to(device)\n",
    "\n",
    "# 3. Recreate the optimizer (same hyperparameters as training)\n",
    "optimizer = torch.optim.AdamW(model_2.parameters(), lr=5e-5, weight_decay=0.1)\n",
    "\n",
    "# 4. Load the checkpoint\n",
    "checkpoint = torch.load(\"gpt2_finetuned_classification.pth\", map_location=device)\n",
    "model_2.load_state_dict(checkpoint[\"model_state_dict\"], strict=False)\n",
    "optimizer.load_state_dict(checkpoint[\"optimizer_state_dict\"])\n",
    "\n",
    "model_2.eval()\n",
    "print(\"Model and optimizer successfully restored!\")\n"
   ]
  },
  {
   "cell_type": "code",
   "execution_count": 52,
   "id": "e9ecd73e-18a4-4099-8c83-0e69858223d7",
   "metadata": {},
   "outputs": [
    {
     "name": "stdout",
     "output_type": "stream",
     "text": [
      "GPT2LMHeadModel(\n",
      "  (transformer): GPT2Model(\n",
      "    (wte): Embedding(50257, 768)\n",
      "    (wpe): Embedding(1024, 768)\n",
      "    (drop): Dropout(p=0.1, inplace=False)\n",
      "    (h): ModuleList(\n",
      "      (0-11): 12 x GPT2Block(\n",
      "        (ln_1): LayerNorm((768,), eps=1e-05, elementwise_affine=True)\n",
      "        (attn): GPT2Attention(\n",
      "          (c_attn): Conv1D(nf=2304, nx=768)\n",
      "          (c_proj): Conv1D(nf=768, nx=768)\n",
      "          (attn_dropout): Dropout(p=0.1, inplace=False)\n",
      "          (resid_dropout): Dropout(p=0.1, inplace=False)\n",
      "        )\n",
      "        (ln_2): LayerNorm((768,), eps=1e-05, elementwise_affine=True)\n",
      "        (mlp): GPT2MLP(\n",
      "          (c_fc): Conv1D(nf=3072, nx=768)\n",
      "          (c_proj): Conv1D(nf=768, nx=3072)\n",
      "          (act): NewGELUActivation()\n",
      "          (dropout): Dropout(p=0.1, inplace=False)\n",
      "        )\n",
      "      )\n",
      "    )\n",
      "    (ln_f): LayerNorm((768,), eps=1e-05, elementwise_affine=True)\n",
      "  )\n",
      "  (lm_head): Linear(in_features=768, out_features=2, bias=True)\n",
      ")\n"
     ]
    }
   ],
   "source": [
    "print(model_2)"
   ]
  },
  {
   "cell_type": "code",
   "execution_count": 53,
   "id": "fafa8146-fbde-412c-910e-ca5c85c10ef5",
   "metadata": {},
   "outputs": [],
   "source": [
    "# To evaluate the loaded model to classify a text as smap or not spam.\n",
    "# Using our previously implemented function classify_review as follow:\n",
    "def classify_review(\n",
    "        text, model, tokenizer, device, max_length=None,\n",
    "        pad_token_id=50256):\n",
    "    \n",
    "    model.eval()\n",
    "\n",
    "    # Converts the input string into a list of token IDs the model can understand.\n",
    "    input_ids = tokenizer.encode(text)   \n",
    "    \n",
    "    supported_context_length = model.config.n_positions\n",
    "    input_ids = input_ids[:min(max_length, supported_context_length)]\n",
    "\n",
    "    input_ids += [pad_token_id] * (max_length - len(input_ids))\n",
    "\n",
    "    input_tensor = torch.tensor(input_ids, device=device).unsqueeze(0)\n",
    "\n",
    "    with torch.no_grad(): \n",
    "        output = model(input_tensor).logits\n",
    "        logits = output[:, -1, :]     # [:, -1, :]: Selects only the last token’s logits for classification.\n",
    "        \n",
    "    predicted_label = torch.argmax(logits, dim=-1).item()\n",
    "\n",
    "    return 'spam' if predicted_label == 1 else 'not spam' "
   ]
  },
  {
   "cell_type": "code",
   "execution_count": 54,
   "id": "61680b85-20be-48a0-8711-48bbccbe4758",
   "metadata": {},
   "outputs": [
    {
     "name": "stdout",
     "output_type": "stream",
     "text": [
      "spam\n"
     ]
    }
   ],
   "source": [
    "text_3 = (\"ngratulations! You have won a $1000 Walmart gift card. Claim your prize now!\")\n",
    "\n",
    "print(classify_review(text_3, model, tokenizer, device, max_length=120))"
   ]
  },
  {
   "cell_type": "code",
   "execution_count": null,
   "id": "ed528a30-9298-4f52-8016-39ff4917da3e",
   "metadata": {},
   "outputs": [],
   "source": []
  }
 ],
 "metadata": {
  "kernelspec": {
   "display_name": "Python 3 (ipykernel)",
   "language": "python",
   "name": "python3"
  },
  "language_info": {
   "codemirror_mode": {
    "name": "ipython",
    "version": 3
   },
   "file_extension": ".py",
   "mimetype": "text/x-python",
   "name": "python",
   "nbconvert_exporter": "python",
   "pygments_lexer": "ipython3",
   "version": "3.13.5"
  }
 },
 "nbformat": 4,
 "nbformat_minor": 5
}
